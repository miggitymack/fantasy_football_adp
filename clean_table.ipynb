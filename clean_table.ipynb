{
 "metadata": {
  "language_info": {
   "codemirror_mode": {
    "name": "ipython",
    "version": 3
   },
   "file_extension": ".py",
   "mimetype": "text/x-python",
   "name": "python",
   "nbconvert_exporter": "python",
   "pygments_lexer": "ipython3",
   "version": "3.7.6-final"
  },
  "orig_nbformat": 2,
  "kernelspec": {
   "name": "Python 3.7.6 64-bit ('base': conda)",
   "display_name": "Python 3.7.6 64-bit ('base': conda)",
   "metadata": {
    "interpreter": {
     "hash": "468819c82e791b0f9a8e64a9b2ca550cabcbea14dfb8d98bf6b8daf534ac0400"
    }
   }
  }
 },
 "nbformat": 4,
 "nbformat_minor": 2,
 "cells": [
  {
   "cell_type": "code",
   "execution_count": 61,
   "metadata": {},
   "outputs": [],
   "source": [
    "import pandas as pd\n",
    "adp = pd.read_csv('adp_full.csv', index_col=0)"
   ]
  },
  {
   "cell_type": "code",
   "execution_count": 62,
   "metadata": {},
   "outputs": [
    {
     "output_type": "execute_result",
     "data": {
      "text/plain": "     Overall                  Name Position Team_x  Times Drafted  Std. Dev  \\\n0        1.9       Saquon Barkley        RB    NYG            185       0.8   \n1        2.4         Alvin Kamara        RB     NO             90       0.8   \n2        3.6  Christian McCaffrey        RB    CAR            112       1.1   \n3        3.8      Ezekiel Elliott        RB    DAL             67       1.0   \n4        6.1         James Conner        RB    PIT             79       1.6   \n..       ...                   ...      ...    ...            ...       ...   \n188    170.1         Mohamed Sanu        WR     NE             17      10.6   \n189    171.2          Matt Prater        PK    DET             13       5.2   \n190    171.8       Buffalo Defense      DEF    BUF             38       9.8   \n191    172.0          Brett Maher        PK    DAL             32      10.4   \n192    172.3            Dan Bailey       PK    MIN             18       4.8   \n\n     High  Low  Bye          match_name  ...   FGA   PCT    LG  1-19  20-29  \\\n0       1    4   11       saquonbarkley  ...   NaN   NaN   NaN   NaN    NaN   \n1       1    4    6         alvinkamara  ...   NaN   NaN   NaN   NaN    NaN   \n2       1    6   13  christianmccaffrey  ...   NaN   NaN   NaN   NaN    NaN   \n3       1    6   10      ezekielelliott  ...   NaN   NaN   NaN   NaN    NaN   \n4       1   12    8         jamesconner  ...   NaN   NaN   NaN   NaN    NaN   \n..    ...  ...  ...                 ...  ...   ...   ...   ...   ...    ...   \n188   142  180    6         mohamedsanu  ...   NaN   NaN   NaN   NaN    NaN   \n189   163  178    5          mattprater  ...  32.0  87.5  54.0   0.0    8.0   \n190   146  191   11      buffalodefense  ...   NaN   NaN   NaN   NaN    NaN   \n191   145  186   10          brettmaher  ...  36.0  80.6  62.0   0.0   10.0   \n192   166  180    7           danbailey  ...  28.0  75.0  52.0   0.0    5.0   \n\n     30-39  40-49  50+   XPT   XPA  \n0      NaN    NaN  NaN   NaN   NaN  \n1      NaN    NaN  NaN   NaN   NaN  \n2      NaN    NaN  NaN   NaN   NaN  \n3      NaN    NaN  NaN   NaN   NaN  \n4      NaN    NaN  NaN   NaN   NaN  \n..     ...    ...  ...   ...   ...  \n188    NaN    NaN  NaN   NaN   NaN  \n189   12.0    5.0  3.0  30.0  30.0  \n190    NaN    NaN  NaN   NaN   NaN  \n191    6.0    7.0  6.0  32.0  33.0  \n192   11.0    4.0  1.0  30.0  31.0  \n\n[193 rows x 56 columns]",
      "text/html": "<div>\n<style scoped>\n    .dataframe tbody tr th:only-of-type {\n        vertical-align: middle;\n    }\n\n    .dataframe tbody tr th {\n        vertical-align: top;\n    }\n\n    .dataframe thead th {\n        text-align: right;\n    }\n</style>\n<table border=\"1\" class=\"dataframe\">\n  <thead>\n    <tr style=\"text-align: right;\">\n      <th></th>\n      <th>Overall</th>\n      <th>Name</th>\n      <th>Position</th>\n      <th>Team_x</th>\n      <th>Times Drafted</th>\n      <th>Std. Dev</th>\n      <th>High</th>\n      <th>Low</th>\n      <th>Bye</th>\n      <th>match_name</th>\n      <th>...</th>\n      <th>FGA</th>\n      <th>PCT</th>\n      <th>LG</th>\n      <th>1-19</th>\n      <th>20-29</th>\n      <th>30-39</th>\n      <th>40-49</th>\n      <th>50+</th>\n      <th>XPT</th>\n      <th>XPA</th>\n    </tr>\n  </thead>\n  <tbody>\n    <tr>\n      <th>0</th>\n      <td>1.9</td>\n      <td>Saquon Barkley</td>\n      <td>RB</td>\n      <td>NYG</td>\n      <td>185</td>\n      <td>0.8</td>\n      <td>1</td>\n      <td>4</td>\n      <td>11</td>\n      <td>saquonbarkley</td>\n      <td>...</td>\n      <td>NaN</td>\n      <td>NaN</td>\n      <td>NaN</td>\n      <td>NaN</td>\n      <td>NaN</td>\n      <td>NaN</td>\n      <td>NaN</td>\n      <td>NaN</td>\n      <td>NaN</td>\n      <td>NaN</td>\n    </tr>\n    <tr>\n      <th>1</th>\n      <td>2.4</td>\n      <td>Alvin Kamara</td>\n      <td>RB</td>\n      <td>NO</td>\n      <td>90</td>\n      <td>0.8</td>\n      <td>1</td>\n      <td>4</td>\n      <td>6</td>\n      <td>alvinkamara</td>\n      <td>...</td>\n      <td>NaN</td>\n      <td>NaN</td>\n      <td>NaN</td>\n      <td>NaN</td>\n      <td>NaN</td>\n      <td>NaN</td>\n      <td>NaN</td>\n      <td>NaN</td>\n      <td>NaN</td>\n      <td>NaN</td>\n    </tr>\n    <tr>\n      <th>2</th>\n      <td>3.6</td>\n      <td>Christian McCaffrey</td>\n      <td>RB</td>\n      <td>CAR</td>\n      <td>112</td>\n      <td>1.1</td>\n      <td>1</td>\n      <td>6</td>\n      <td>13</td>\n      <td>christianmccaffrey</td>\n      <td>...</td>\n      <td>NaN</td>\n      <td>NaN</td>\n      <td>NaN</td>\n      <td>NaN</td>\n      <td>NaN</td>\n      <td>NaN</td>\n      <td>NaN</td>\n      <td>NaN</td>\n      <td>NaN</td>\n      <td>NaN</td>\n    </tr>\n    <tr>\n      <th>3</th>\n      <td>3.8</td>\n      <td>Ezekiel Elliott</td>\n      <td>RB</td>\n      <td>DAL</td>\n      <td>67</td>\n      <td>1.0</td>\n      <td>1</td>\n      <td>6</td>\n      <td>10</td>\n      <td>ezekielelliott</td>\n      <td>...</td>\n      <td>NaN</td>\n      <td>NaN</td>\n      <td>NaN</td>\n      <td>NaN</td>\n      <td>NaN</td>\n      <td>NaN</td>\n      <td>NaN</td>\n      <td>NaN</td>\n      <td>NaN</td>\n      <td>NaN</td>\n    </tr>\n    <tr>\n      <th>4</th>\n      <td>6.1</td>\n      <td>James Conner</td>\n      <td>RB</td>\n      <td>PIT</td>\n      <td>79</td>\n      <td>1.6</td>\n      <td>1</td>\n      <td>12</td>\n      <td>8</td>\n      <td>jamesconner</td>\n      <td>...</td>\n      <td>NaN</td>\n      <td>NaN</td>\n      <td>NaN</td>\n      <td>NaN</td>\n      <td>NaN</td>\n      <td>NaN</td>\n      <td>NaN</td>\n      <td>NaN</td>\n      <td>NaN</td>\n      <td>NaN</td>\n    </tr>\n    <tr>\n      <th>...</th>\n      <td>...</td>\n      <td>...</td>\n      <td>...</td>\n      <td>...</td>\n      <td>...</td>\n      <td>...</td>\n      <td>...</td>\n      <td>...</td>\n      <td>...</td>\n      <td>...</td>\n      <td>...</td>\n      <td>...</td>\n      <td>...</td>\n      <td>...</td>\n      <td>...</td>\n      <td>...</td>\n      <td>...</td>\n      <td>...</td>\n      <td>...</td>\n      <td>...</td>\n      <td>...</td>\n    </tr>\n    <tr>\n      <th>188</th>\n      <td>170.1</td>\n      <td>Mohamed Sanu</td>\n      <td>WR</td>\n      <td>NE</td>\n      <td>17</td>\n      <td>10.6</td>\n      <td>142</td>\n      <td>180</td>\n      <td>6</td>\n      <td>mohamedsanu</td>\n      <td>...</td>\n      <td>NaN</td>\n      <td>NaN</td>\n      <td>NaN</td>\n      <td>NaN</td>\n      <td>NaN</td>\n      <td>NaN</td>\n      <td>NaN</td>\n      <td>NaN</td>\n      <td>NaN</td>\n      <td>NaN</td>\n    </tr>\n    <tr>\n      <th>189</th>\n      <td>171.2</td>\n      <td>Matt Prater</td>\n      <td>PK</td>\n      <td>DET</td>\n      <td>13</td>\n      <td>5.2</td>\n      <td>163</td>\n      <td>178</td>\n      <td>5</td>\n      <td>mattprater</td>\n      <td>...</td>\n      <td>32.0</td>\n      <td>87.5</td>\n      <td>54.0</td>\n      <td>0.0</td>\n      <td>8.0</td>\n      <td>12.0</td>\n      <td>5.0</td>\n      <td>3.0</td>\n      <td>30.0</td>\n      <td>30.0</td>\n    </tr>\n    <tr>\n      <th>190</th>\n      <td>171.8</td>\n      <td>Buffalo Defense</td>\n      <td>DEF</td>\n      <td>BUF</td>\n      <td>38</td>\n      <td>9.8</td>\n      <td>146</td>\n      <td>191</td>\n      <td>11</td>\n      <td>buffalodefense</td>\n      <td>...</td>\n      <td>NaN</td>\n      <td>NaN</td>\n      <td>NaN</td>\n      <td>NaN</td>\n      <td>NaN</td>\n      <td>NaN</td>\n      <td>NaN</td>\n      <td>NaN</td>\n      <td>NaN</td>\n      <td>NaN</td>\n    </tr>\n    <tr>\n      <th>191</th>\n      <td>172.0</td>\n      <td>Brett Maher</td>\n      <td>PK</td>\n      <td>DAL</td>\n      <td>32</td>\n      <td>10.4</td>\n      <td>145</td>\n      <td>186</td>\n      <td>10</td>\n      <td>brettmaher</td>\n      <td>...</td>\n      <td>36.0</td>\n      <td>80.6</td>\n      <td>62.0</td>\n      <td>0.0</td>\n      <td>10.0</td>\n      <td>6.0</td>\n      <td>7.0</td>\n      <td>6.0</td>\n      <td>32.0</td>\n      <td>33.0</td>\n    </tr>\n    <tr>\n      <th>192</th>\n      <td>172.3</td>\n      <td>Dan Bailey</td>\n      <td>PK</td>\n      <td>MIN</td>\n      <td>18</td>\n      <td>4.8</td>\n      <td>166</td>\n      <td>180</td>\n      <td>7</td>\n      <td>danbailey</td>\n      <td>...</td>\n      <td>28.0</td>\n      <td>75.0</td>\n      <td>52.0</td>\n      <td>0.0</td>\n      <td>5.0</td>\n      <td>11.0</td>\n      <td>4.0</td>\n      <td>1.0</td>\n      <td>30.0</td>\n      <td>31.0</td>\n    </tr>\n  </tbody>\n</table>\n<p>193 rows × 56 columns</p>\n</div>"
     },
     "metadata": {},
     "execution_count": 62
    }
   ],
   "source": [
    "adp"
   ]
  },
  {
   "cell_type": "code",
   "execution_count": 63,
   "metadata": {},
   "outputs": [
    {
     "output_type": "execute_result",
     "data": {
      "text/plain": "     Overall                 Name Position Team_x  Times Drafted  Std. Dev  \\\n0        1.9       Saquon Barkley       RB    NYG            185       0.8   \n1        2.4         Alvin Kamara       RB     NO             90       0.8   \n2        3.6  Christian McCaffrey       RB    CAR            112       1.1   \n3        3.8      Ezekiel Elliott       RB    DAL             67       1.0   \n4        6.1         James Conner       RB    PIT             79       1.6   \n..       ...                  ...      ...    ...            ...       ...   \n188    170.1         Mohamed Sanu       WR     NE             17      10.6   \n189    171.2          Matt Prater       PK    DET             13       5.2   \n190    171.8      Buffalo Defense      DEF    BUF             38       9.8   \n191    172.0          Brett Maher       PK    DAL             32      10.4   \n192    172.3           Dan Bailey       PK    MIN             18       4.8   \n\n     High  Low  Bye          match_name  ...   FGA   PCT    LG  1-19  20-29  \\\n0       1    4   11       saquonbarkley  ...   NaN   NaN   NaN   NaN    NaN   \n1       1    4    6         alvinkamara  ...   NaN   NaN   NaN   NaN    NaN   \n2       1    6   13  christianmccaffrey  ...   NaN   NaN   NaN   NaN    NaN   \n3       1    6   10      ezekielelliott  ...   NaN   NaN   NaN   NaN    NaN   \n4       1   12    8         jamesconner  ...   NaN   NaN   NaN   NaN    NaN   \n..    ...  ...  ...                 ...  ...   ...   ...   ...   ...    ...   \n188   142  180    6         mohamedsanu  ...   NaN   NaN   NaN   NaN    NaN   \n189   163  178    5          mattprater  ...  32.0  87.5  54.0   0.0    8.0   \n190   146  191   11      buffalodefense  ...   NaN   NaN   NaN   NaN    NaN   \n191   145  186   10          brettmaher  ...  36.0  80.6  62.0   0.0   10.0   \n192   166  180    7           danbailey  ...  28.0  75.0  52.0   0.0    5.0   \n\n     30-39  40-49  50+   XPT   XPA  \n0      NaN    NaN  NaN   NaN   NaN  \n1      NaN    NaN  NaN   NaN   NaN  \n2      NaN    NaN  NaN   NaN   NaN  \n3      NaN    NaN  NaN   NaN   NaN  \n4      NaN    NaN  NaN   NaN   NaN  \n..     ...    ...  ...   ...   ...  \n188    NaN    NaN  NaN   NaN   NaN  \n189   12.0    5.0  3.0  30.0  30.0  \n190    NaN    NaN  NaN   NaN   NaN  \n191    6.0    7.0  6.0  32.0  33.0  \n192   11.0    4.0  1.0  30.0  31.0  \n\n[193 rows x 56 columns]",
      "text/html": "<div>\n<style scoped>\n    .dataframe tbody tr th:only-of-type {\n        vertical-align: middle;\n    }\n\n    .dataframe tbody tr th {\n        vertical-align: top;\n    }\n\n    .dataframe thead th {\n        text-align: right;\n    }\n</style>\n<table border=\"1\" class=\"dataframe\">\n  <thead>\n    <tr style=\"text-align: right;\">\n      <th></th>\n      <th>Overall</th>\n      <th>Name</th>\n      <th>Position</th>\n      <th>Team_x</th>\n      <th>Times Drafted</th>\n      <th>Std. Dev</th>\n      <th>High</th>\n      <th>Low</th>\n      <th>Bye</th>\n      <th>match_name</th>\n      <th>...</th>\n      <th>FGA</th>\n      <th>PCT</th>\n      <th>LG</th>\n      <th>1-19</th>\n      <th>20-29</th>\n      <th>30-39</th>\n      <th>40-49</th>\n      <th>50+</th>\n      <th>XPT</th>\n      <th>XPA</th>\n    </tr>\n  </thead>\n  <tbody>\n    <tr>\n      <th>0</th>\n      <td>1.9</td>\n      <td>Saquon Barkley</td>\n      <td>RB</td>\n      <td>NYG</td>\n      <td>185</td>\n      <td>0.8</td>\n      <td>1</td>\n      <td>4</td>\n      <td>11</td>\n      <td>saquonbarkley</td>\n      <td>...</td>\n      <td>NaN</td>\n      <td>NaN</td>\n      <td>NaN</td>\n      <td>NaN</td>\n      <td>NaN</td>\n      <td>NaN</td>\n      <td>NaN</td>\n      <td>NaN</td>\n      <td>NaN</td>\n      <td>NaN</td>\n    </tr>\n    <tr>\n      <th>1</th>\n      <td>2.4</td>\n      <td>Alvin Kamara</td>\n      <td>RB</td>\n      <td>NO</td>\n      <td>90</td>\n      <td>0.8</td>\n      <td>1</td>\n      <td>4</td>\n      <td>6</td>\n      <td>alvinkamara</td>\n      <td>...</td>\n      <td>NaN</td>\n      <td>NaN</td>\n      <td>NaN</td>\n      <td>NaN</td>\n      <td>NaN</td>\n      <td>NaN</td>\n      <td>NaN</td>\n      <td>NaN</td>\n      <td>NaN</td>\n      <td>NaN</td>\n    </tr>\n    <tr>\n      <th>2</th>\n      <td>3.6</td>\n      <td>Christian McCaffrey</td>\n      <td>RB</td>\n      <td>CAR</td>\n      <td>112</td>\n      <td>1.1</td>\n      <td>1</td>\n      <td>6</td>\n      <td>13</td>\n      <td>christianmccaffrey</td>\n      <td>...</td>\n      <td>NaN</td>\n      <td>NaN</td>\n      <td>NaN</td>\n      <td>NaN</td>\n      <td>NaN</td>\n      <td>NaN</td>\n      <td>NaN</td>\n      <td>NaN</td>\n      <td>NaN</td>\n      <td>NaN</td>\n    </tr>\n    <tr>\n      <th>3</th>\n      <td>3.8</td>\n      <td>Ezekiel Elliott</td>\n      <td>RB</td>\n      <td>DAL</td>\n      <td>67</td>\n      <td>1.0</td>\n      <td>1</td>\n      <td>6</td>\n      <td>10</td>\n      <td>ezekielelliott</td>\n      <td>...</td>\n      <td>NaN</td>\n      <td>NaN</td>\n      <td>NaN</td>\n      <td>NaN</td>\n      <td>NaN</td>\n      <td>NaN</td>\n      <td>NaN</td>\n      <td>NaN</td>\n      <td>NaN</td>\n      <td>NaN</td>\n    </tr>\n    <tr>\n      <th>4</th>\n      <td>6.1</td>\n      <td>James Conner</td>\n      <td>RB</td>\n      <td>PIT</td>\n      <td>79</td>\n      <td>1.6</td>\n      <td>1</td>\n      <td>12</td>\n      <td>8</td>\n      <td>jamesconner</td>\n      <td>...</td>\n      <td>NaN</td>\n      <td>NaN</td>\n      <td>NaN</td>\n      <td>NaN</td>\n      <td>NaN</td>\n      <td>NaN</td>\n      <td>NaN</td>\n      <td>NaN</td>\n      <td>NaN</td>\n      <td>NaN</td>\n    </tr>\n    <tr>\n      <th>...</th>\n      <td>...</td>\n      <td>...</td>\n      <td>...</td>\n      <td>...</td>\n      <td>...</td>\n      <td>...</td>\n      <td>...</td>\n      <td>...</td>\n      <td>...</td>\n      <td>...</td>\n      <td>...</td>\n      <td>...</td>\n      <td>...</td>\n      <td>...</td>\n      <td>...</td>\n      <td>...</td>\n      <td>...</td>\n      <td>...</td>\n      <td>...</td>\n      <td>...</td>\n      <td>...</td>\n    </tr>\n    <tr>\n      <th>188</th>\n      <td>170.1</td>\n      <td>Mohamed Sanu</td>\n      <td>WR</td>\n      <td>NE</td>\n      <td>17</td>\n      <td>10.6</td>\n      <td>142</td>\n      <td>180</td>\n      <td>6</td>\n      <td>mohamedsanu</td>\n      <td>...</td>\n      <td>NaN</td>\n      <td>NaN</td>\n      <td>NaN</td>\n      <td>NaN</td>\n      <td>NaN</td>\n      <td>NaN</td>\n      <td>NaN</td>\n      <td>NaN</td>\n      <td>NaN</td>\n      <td>NaN</td>\n    </tr>\n    <tr>\n      <th>189</th>\n      <td>171.2</td>\n      <td>Matt Prater</td>\n      <td>PK</td>\n      <td>DET</td>\n      <td>13</td>\n      <td>5.2</td>\n      <td>163</td>\n      <td>178</td>\n      <td>5</td>\n      <td>mattprater</td>\n      <td>...</td>\n      <td>32.0</td>\n      <td>87.5</td>\n      <td>54.0</td>\n      <td>0.0</td>\n      <td>8.0</td>\n      <td>12.0</td>\n      <td>5.0</td>\n      <td>3.0</td>\n      <td>30.0</td>\n      <td>30.0</td>\n    </tr>\n    <tr>\n      <th>190</th>\n      <td>171.8</td>\n      <td>Buffalo Defense</td>\n      <td>DEF</td>\n      <td>BUF</td>\n      <td>38</td>\n      <td>9.8</td>\n      <td>146</td>\n      <td>191</td>\n      <td>11</td>\n      <td>buffalodefense</td>\n      <td>...</td>\n      <td>NaN</td>\n      <td>NaN</td>\n      <td>NaN</td>\n      <td>NaN</td>\n      <td>NaN</td>\n      <td>NaN</td>\n      <td>NaN</td>\n      <td>NaN</td>\n      <td>NaN</td>\n      <td>NaN</td>\n    </tr>\n    <tr>\n      <th>191</th>\n      <td>172.0</td>\n      <td>Brett Maher</td>\n      <td>PK</td>\n      <td>DAL</td>\n      <td>32</td>\n      <td>10.4</td>\n      <td>145</td>\n      <td>186</td>\n      <td>10</td>\n      <td>brettmaher</td>\n      <td>...</td>\n      <td>36.0</td>\n      <td>80.6</td>\n      <td>62.0</td>\n      <td>0.0</td>\n      <td>10.0</td>\n      <td>6.0</td>\n      <td>7.0</td>\n      <td>6.0</td>\n      <td>32.0</td>\n      <td>33.0</td>\n    </tr>\n    <tr>\n      <th>192</th>\n      <td>172.3</td>\n      <td>Dan Bailey</td>\n      <td>PK</td>\n      <td>MIN</td>\n      <td>18</td>\n      <td>4.8</td>\n      <td>166</td>\n      <td>180</td>\n      <td>7</td>\n      <td>danbailey</td>\n      <td>...</td>\n      <td>28.0</td>\n      <td>75.0</td>\n      <td>52.0</td>\n      <td>0.0</td>\n      <td>5.0</td>\n      <td>11.0</td>\n      <td>4.0</td>\n      <td>1.0</td>\n      <td>30.0</td>\n      <td>31.0</td>\n    </tr>\n  </tbody>\n</table>\n<p>193 rows × 56 columns</p>\n</div>"
     },
     "metadata": {},
     "execution_count": 63
    }
   ],
   "source": [
    "adp['Name'].apply(lambda x: ' '.join(x.split()))\n",
    "adp['Name'] = adp['Name'].apply(lambda x: ' '.join(x.split()))\n",
    "adp"
   ]
  },
  {
   "cell_type": "code",
   "execution_count": 64,
   "metadata": {},
   "outputs": [
    {
     "output_type": "execute_result",
     "data": {
      "text/plain": "Index([&#39;Overall&#39;, &#39;Name&#39;, &#39;Position&#39;, &#39;Team_x&#39;, &#39;Times Drafted&#39;, &#39;Std. Dev&#39;,\n       &#39;High&#39;, &#39;Low&#39;, &#39;Bye&#39;, &#39;match_name&#39;, &#39;age&#39;, &#39;all_td&#39;, &#39;fumbles&#39;,\n       &#39;fumbles_lost&#39;, &#39;g&#39;, &#39;gs&#39;, &#39;pass_att&#39;, &#39;pass_cmp&#39;, &#39;pass_int&#39;,\n       &#39;pass_td&#39;, &#39;pass_yds&#39;, &#39;player&#39;, &#39;pos&#39;, &#39;rec&#39;, &#39;rec_td&#39;, &#39;rec_yds&#39;,\n       &#39;rec_yds_per_rec&#39;, &#39;rush_att&#39;, &#39;rush_td&#39;, &#39;rush_yds&#39;,\n       &#39;rush_yds_per_att&#39;, &#39;targets&#39;, &#39;two_pt_md&#39;, &#39;two_pt_pass&#39;, &#39;Team Def&#39;,\n       &#39;Player_x&#39;, &#39;SACK&#39;, &#39;INT&#39;, &#39;FR&#39;, &#39;FF&#39;, &#39;DEF TD&#39;, &#39;SFTY&#39;, &#39;SPC TD&#39;,\n       &#39;Team_y&#39;, &#39;Player_y&#39;, &#39;FG&#39;, &#39;FGA&#39;, &#39;PCT&#39;, &#39;LG&#39;, &#39;1-19&#39;, &#39;20-29&#39;,\n       &#39;30-39&#39;, &#39;40-49&#39;, &#39;50+&#39;, &#39;XPT&#39;, &#39;XPA&#39;],\n      dtype=&#39;object&#39;)"
     },
     "metadata": {},
     "execution_count": 64
    }
   ],
   "source": [
    "adp.columns"
   ]
  },
  {
   "cell_type": "code",
   "execution_count": 65,
   "metadata": {},
   "outputs": [],
   "source": [
    "adp = adp.drop(columns=['match_name', 'Bye', 'Team Def', 'Player_x', 'Player_y', 'Team_y', 'player', 'pos'])"
   ]
  },
  {
   "cell_type": "code",
   "execution_count": 66,
   "metadata": {},
   "outputs": [],
   "source": [
    "adp = adp.rename(columns={'Team_x':'Team'})"
   ]
  },
  {
   "cell_type": "code",
   "execution_count": 67,
   "metadata": {},
   "outputs": [
    {
     "output_type": "execute_result",
     "data": {
      "text/plain": "Index([&#39;Overall&#39;, &#39;Name&#39;, &#39;Position&#39;, &#39;Team&#39;, &#39;Times Drafted&#39;, &#39;Std. Dev&#39;,\n       &#39;High&#39;, &#39;Low&#39;, &#39;age&#39;, &#39;all_td&#39;, &#39;fumbles&#39;, &#39;fumbles_lost&#39;, &#39;g&#39;, &#39;gs&#39;,\n       &#39;pass_att&#39;, &#39;pass_cmp&#39;, &#39;pass_int&#39;, &#39;pass_td&#39;, &#39;pass_yds&#39;, &#39;rec&#39;,\n       &#39;rec_td&#39;, &#39;rec_yds&#39;, &#39;rec_yds_per_rec&#39;, &#39;rush_att&#39;, &#39;rush_td&#39;,\n       &#39;rush_yds&#39;, &#39;rush_yds_per_att&#39;, &#39;targets&#39;, &#39;two_pt_md&#39;, &#39;two_pt_pass&#39;,\n       &#39;SACK&#39;, &#39;INT&#39;, &#39;FR&#39;, &#39;FF&#39;, &#39;DEF TD&#39;, &#39;SFTY&#39;, &#39;SPC TD&#39;, &#39;FG&#39;, &#39;FGA&#39;,\n       &#39;PCT&#39;, &#39;LG&#39;, &#39;1-19&#39;, &#39;20-29&#39;, &#39;30-39&#39;, &#39;40-49&#39;, &#39;50+&#39;, &#39;XPT&#39;, &#39;XPA&#39;],\n      dtype=&#39;object&#39;)"
     },
     "metadata": {},
     "execution_count": 67
    }
   ],
   "source": [
    "adp.columns"
   ]
  },
  {
   "cell_type": "code",
   "execution_count": 79,
   "metadata": {},
   "outputs": [],
   "source": [
    "adp = adp.fillna(0)"
   ]
  },
  {
   "cell_type": "code",
   "execution_count": 69,
   "metadata": {},
   "outputs": [
    {
     "output_type": "execute_result",
     "data": {
      "text/plain": "     key_0  Overall                 Name Position Team  Times Drafted  \\\n0        0      1.9       Saquon Barkley       RB  NYG            185   \n1        1      2.4         Alvin Kamara       RB   NO             90   \n2        2      3.6  Christian McCaffrey       RB  CAR            112   \n3        3      3.8      Ezekiel Elliott       RB  DAL             67   \n4        4      6.1         James Conner       RB  PIT             79   \n..     ...      ...                  ...      ...  ...            ...   \n188    188    170.1         Mohamed Sanu       WR   NE             17   \n189    189    171.2          Matt Prater       PK  DET             13   \n190    190    171.8      Buffalo Defense      DEF  BUF             38   \n191    191    172.0          Brett Maher       PK  DAL             32   \n192    192    172.3           Dan Bailey       PK  MIN             18   \n\n     Std. Dev  High  Low   age  ...  Team_NO  Team_NYG  Team_NYJ  Team_PHI  \\\n0         0.8     1    4  21.0  ...        0         1         0         0   \n1         0.8     1    4  23.0  ...        1         0         0         0   \n2         1.1     1    6  22.0  ...        0         0         0         0   \n3         1.0     1    6  23.0  ...        0         0         0         0   \n4         1.6     1   12  23.0  ...        0         0         0         0   \n..        ...   ...  ...   ...  ...      ...       ...       ...       ...   \n188      10.6   142  180  29.0  ...        0         0         0         0   \n189       5.2   163  178   NaN  ...        0         0         0         0   \n190       9.8   146  191   NaN  ...        0         0         0         0   \n191      10.4   145  186   NaN  ...        0         0         0         0   \n192       4.8   166  180   NaN  ...        0         0         0         0   \n\n     Team_PIT  Team_SEA  Team_SF  Team_TB  Team_TEN  Team_WAS  \n0           0         0        0        0         0         0  \n1           0         0        0        0         0         0  \n2           0         0        0        0         0         0  \n3           0         0        0        0         0         0  \n4           1         0        0        0         0         0  \n..        ...       ...      ...      ...       ...       ...  \n188         0         0        0        0         0         0  \n189         0         0        0        0         0         0  \n190         0         0        0        0         0         0  \n191         0         0        0        0         0         0  \n192         0         0        0        0         0         0  \n\n[193 rows x 88 columns]",
      "text/html": "<div>\n<style scoped>\n    .dataframe tbody tr th:only-of-type {\n        vertical-align: middle;\n    }\n\n    .dataframe tbody tr th {\n        vertical-align: top;\n    }\n\n    .dataframe thead th {\n        text-align: right;\n    }\n</style>\n<table border=\"1\" class=\"dataframe\">\n  <thead>\n    <tr style=\"text-align: right;\">\n      <th></th>\n      <th>key_0</th>\n      <th>Overall</th>\n      <th>Name</th>\n      <th>Position</th>\n      <th>Team</th>\n      <th>Times Drafted</th>\n      <th>Std. Dev</th>\n      <th>High</th>\n      <th>Low</th>\n      <th>age</th>\n      <th>...</th>\n      <th>Team_NO</th>\n      <th>Team_NYG</th>\n      <th>Team_NYJ</th>\n      <th>Team_PHI</th>\n      <th>Team_PIT</th>\n      <th>Team_SEA</th>\n      <th>Team_SF</th>\n      <th>Team_TB</th>\n      <th>Team_TEN</th>\n      <th>Team_WAS</th>\n    </tr>\n  </thead>\n  <tbody>\n    <tr>\n      <th>0</th>\n      <td>0</td>\n      <td>1.9</td>\n      <td>Saquon Barkley</td>\n      <td>RB</td>\n      <td>NYG</td>\n      <td>185</td>\n      <td>0.8</td>\n      <td>1</td>\n      <td>4</td>\n      <td>21.0</td>\n      <td>...</td>\n      <td>0</td>\n      <td>1</td>\n      <td>0</td>\n      <td>0</td>\n      <td>0</td>\n      <td>0</td>\n      <td>0</td>\n      <td>0</td>\n      <td>0</td>\n      <td>0</td>\n    </tr>\n    <tr>\n      <th>1</th>\n      <td>1</td>\n      <td>2.4</td>\n      <td>Alvin Kamara</td>\n      <td>RB</td>\n      <td>NO</td>\n      <td>90</td>\n      <td>0.8</td>\n      <td>1</td>\n      <td>4</td>\n      <td>23.0</td>\n      <td>...</td>\n      <td>1</td>\n      <td>0</td>\n      <td>0</td>\n      <td>0</td>\n      <td>0</td>\n      <td>0</td>\n      <td>0</td>\n      <td>0</td>\n      <td>0</td>\n      <td>0</td>\n    </tr>\n    <tr>\n      <th>2</th>\n      <td>2</td>\n      <td>3.6</td>\n      <td>Christian McCaffrey</td>\n      <td>RB</td>\n      <td>CAR</td>\n      <td>112</td>\n      <td>1.1</td>\n      <td>1</td>\n      <td>6</td>\n      <td>22.0</td>\n      <td>...</td>\n      <td>0</td>\n      <td>0</td>\n      <td>0</td>\n      <td>0</td>\n      <td>0</td>\n      <td>0</td>\n      <td>0</td>\n      <td>0</td>\n      <td>0</td>\n      <td>0</td>\n    </tr>\n    <tr>\n      <th>3</th>\n      <td>3</td>\n      <td>3.8</td>\n      <td>Ezekiel Elliott</td>\n      <td>RB</td>\n      <td>DAL</td>\n      <td>67</td>\n      <td>1.0</td>\n      <td>1</td>\n      <td>6</td>\n      <td>23.0</td>\n      <td>...</td>\n      <td>0</td>\n      <td>0</td>\n      <td>0</td>\n      <td>0</td>\n      <td>0</td>\n      <td>0</td>\n      <td>0</td>\n      <td>0</td>\n      <td>0</td>\n      <td>0</td>\n    </tr>\n    <tr>\n      <th>4</th>\n      <td>4</td>\n      <td>6.1</td>\n      <td>James Conner</td>\n      <td>RB</td>\n      <td>PIT</td>\n      <td>79</td>\n      <td>1.6</td>\n      <td>1</td>\n      <td>12</td>\n      <td>23.0</td>\n      <td>...</td>\n      <td>0</td>\n      <td>0</td>\n      <td>0</td>\n      <td>0</td>\n      <td>1</td>\n      <td>0</td>\n      <td>0</td>\n      <td>0</td>\n      <td>0</td>\n      <td>0</td>\n    </tr>\n    <tr>\n      <th>...</th>\n      <td>...</td>\n      <td>...</td>\n      <td>...</td>\n      <td>...</td>\n      <td>...</td>\n      <td>...</td>\n      <td>...</td>\n      <td>...</td>\n      <td>...</td>\n      <td>...</td>\n      <td>...</td>\n      <td>...</td>\n      <td>...</td>\n      <td>...</td>\n      <td>...</td>\n      <td>...</td>\n      <td>...</td>\n      <td>...</td>\n      <td>...</td>\n      <td>...</td>\n      <td>...</td>\n    </tr>\n    <tr>\n      <th>188</th>\n      <td>188</td>\n      <td>170.1</td>\n      <td>Mohamed Sanu</td>\n      <td>WR</td>\n      <td>NE</td>\n      <td>17</td>\n      <td>10.6</td>\n      <td>142</td>\n      <td>180</td>\n      <td>29.0</td>\n      <td>...</td>\n      <td>0</td>\n      <td>0</td>\n      <td>0</td>\n      <td>0</td>\n      <td>0</td>\n      <td>0</td>\n      <td>0</td>\n      <td>0</td>\n      <td>0</td>\n      <td>0</td>\n    </tr>\n    <tr>\n      <th>189</th>\n      <td>189</td>\n      <td>171.2</td>\n      <td>Matt Prater</td>\n      <td>PK</td>\n      <td>DET</td>\n      <td>13</td>\n      <td>5.2</td>\n      <td>163</td>\n      <td>178</td>\n      <td>NaN</td>\n      <td>...</td>\n      <td>0</td>\n      <td>0</td>\n      <td>0</td>\n      <td>0</td>\n      <td>0</td>\n      <td>0</td>\n      <td>0</td>\n      <td>0</td>\n      <td>0</td>\n      <td>0</td>\n    </tr>\n    <tr>\n      <th>190</th>\n      <td>190</td>\n      <td>171.8</td>\n      <td>Buffalo Defense</td>\n      <td>DEF</td>\n      <td>BUF</td>\n      <td>38</td>\n      <td>9.8</td>\n      <td>146</td>\n      <td>191</td>\n      <td>NaN</td>\n      <td>...</td>\n      <td>0</td>\n      <td>0</td>\n      <td>0</td>\n      <td>0</td>\n      <td>0</td>\n      <td>0</td>\n      <td>0</td>\n      <td>0</td>\n      <td>0</td>\n      <td>0</td>\n    </tr>\n    <tr>\n      <th>191</th>\n      <td>191</td>\n      <td>172.0</td>\n      <td>Brett Maher</td>\n      <td>PK</td>\n      <td>DAL</td>\n      <td>32</td>\n      <td>10.4</td>\n      <td>145</td>\n      <td>186</td>\n      <td>NaN</td>\n      <td>...</td>\n      <td>0</td>\n      <td>0</td>\n      <td>0</td>\n      <td>0</td>\n      <td>0</td>\n      <td>0</td>\n      <td>0</td>\n      <td>0</td>\n      <td>0</td>\n      <td>0</td>\n    </tr>\n    <tr>\n      <th>192</th>\n      <td>192</td>\n      <td>172.3</td>\n      <td>Dan Bailey</td>\n      <td>PK</td>\n      <td>MIN</td>\n      <td>18</td>\n      <td>4.8</td>\n      <td>166</td>\n      <td>180</td>\n      <td>NaN</td>\n      <td>...</td>\n      <td>0</td>\n      <td>0</td>\n      <td>0</td>\n      <td>0</td>\n      <td>0</td>\n      <td>0</td>\n      <td>0</td>\n      <td>0</td>\n      <td>0</td>\n      <td>0</td>\n    </tr>\n  </tbody>\n</table>\n<p>193 rows × 88 columns</p>\n</div>"
     },
     "metadata": {},
     "execution_count": 69
    }
   ],
   "source": [
    "dummy_cols = pd.get_dummies(adp[['Position', 'Team']])\n",
    "adp = adp.merge(dummy_cols, left_on=adp.index, right_on=dummy_cols.index)\n",
    "adp"
   ]
  },
  {
   "cell_type": "code",
   "execution_count": 81,
   "metadata": {},
   "outputs": [
    {
     "output_type": "execute_result",
     "data": {
      "text/plain": "Index([&#39;Overall&#39;, &#39;Name&#39;, &#39;Times Drafted&#39;, &#39;Std. Dev&#39;, &#39;High&#39;, &#39;Low&#39;, &#39;age&#39;,\n       &#39;all_td&#39;, &#39;fumbles&#39;, &#39;fumbles_lost&#39;, &#39;g&#39;, &#39;gs&#39;, &#39;pass_att&#39;, &#39;pass_cmp&#39;,\n       &#39;pass_int&#39;, &#39;pass_td&#39;, &#39;pass_yds&#39;, &#39;rec&#39;, &#39;rec_td&#39;, &#39;rec_yds&#39;,\n       &#39;rec_yds_per_rec&#39;, &#39;rush_att&#39;, &#39;rush_td&#39;, &#39;rush_yds&#39;,\n       &#39;rush_yds_per_att&#39;, &#39;targets&#39;, &#39;two_pt_md&#39;, &#39;two_pt_pass&#39;, &#39;SACK&#39;,\n       &#39;INT&#39;, &#39;FR&#39;, &#39;FF&#39;, &#39;DEF TD&#39;, &#39;SFTY&#39;, &#39;SPC TD&#39;, &#39;FG&#39;, &#39;FGA&#39;, &#39;PCT&#39;, &#39;LG&#39;,\n       &#39;1-19&#39;, &#39;20-29&#39;, &#39;30-39&#39;, &#39;40-49&#39;, &#39;50+&#39;, &#39;XPT&#39;, &#39;XPA&#39;, &#39;Position_DEF&#39;,\n       &#39;Position_PK&#39;, &#39;Position_QB&#39;, &#39;Position_RB&#39;, &#39;Position_TE&#39;,\n       &#39;Position_WR&#39;, &#39;Team_ARI&#39;, &#39;Team_ATL&#39;, &#39;Team_BAL&#39;, &#39;Team_BUF&#39;,\n       &#39;Team_CAR&#39;, &#39;Team_CHI&#39;, &#39;Team_CIN&#39;, &#39;Team_CLE&#39;, &#39;Team_DAL&#39;, &#39;Team_DEN&#39;,\n       &#39;Team_DET&#39;, &#39;Team_FA&#39;, &#39;Team_GB&#39;, &#39;Team_HOU&#39;, &#39;Team_IND&#39;, &#39;Team_JAX&#39;,\n       &#39;Team_KC&#39;, &#39;Team_LAC&#39;, &#39;Team_LAR&#39;, &#39;Team_LV&#39;, &#39;Team_MIA&#39;, &#39;Team_MIN&#39;,\n       &#39;Team_NE&#39;, &#39;Team_NO&#39;, &#39;Team_NYG&#39;, &#39;Team_NYJ&#39;, &#39;Team_PHI&#39;, &#39;Team_PIT&#39;,\n       &#39;Team_SEA&#39;, &#39;Team_SF&#39;, &#39;Team_TB&#39;, &#39;Team_TEN&#39;, &#39;Team_WAS&#39;],\n      dtype=&#39;object&#39;)"
     },
     "metadata": {},
     "execution_count": 81
    }
   ],
   "source": [
    "adp.columns"
   ]
  },
  {
   "cell_type": "code",
   "execution_count": 73,
   "metadata": {},
   "outputs": [],
   "source": [
    "adp = adp.drop(columns=['key_0', 'Position', 'Team'])"
   ]
  },
  {
   "cell_type": "code",
   "execution_count": 82,
   "metadata": {},
   "outputs": [],
   "source": [
    "adp.to_csv('adp_data_19.csv', index=False)"
   ]
  }
 ]
}