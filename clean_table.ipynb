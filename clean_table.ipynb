{
 "metadata": {
  "language_info": {
   "codemirror_mode": {
    "name": "ipython",
    "version": 3
   },
   "file_extension": ".py",
   "mimetype": "text/x-python",
   "name": "python",
   "nbconvert_exporter": "python",
   "pygments_lexer": "ipython3",
   "version": "3.7.6-final"
  },
  "orig_nbformat": 2,
  "kernelspec": {
   "name": "Python 3.7.6 64-bit ('jason': virtualenv)",
   "display_name": "Python 3.7.6 64-bit ('jason': virtualenv)",
   "metadata": {
    "interpreter": {
     "hash": "468819c82e791b0f9a8e64a9b2ca550cabcbea14dfb8d98bf6b8daf534ac0400"
    }
   }
  }
 },
 "nbformat": 4,
 "nbformat_minor": 2,
 "cells": [
  {
   "cell_type": "code",
   "execution_count": 13,
   "metadata": {},
   "outputs": [],
   "source": [
    "import pandas as pd\n",
    "adp = pd.read_csv('adp_full.csv', index_col=0)"
   ]
  },
  {
   "cell_type": "code",
   "execution_count": 8,
   "metadata": {},
   "outputs": [
    {
     "output_type": "execute_result",
     "data": {
      "text/plain": "     Overall                  Name Position Team_x  Times Drafted  Std. Dev  \\\n0        1.9       Saquon Barkley        RB    NYG            185       0.8   \n1        2.4         Alvin Kamara        RB     NO             90       0.8   \n2        3.6  Christian McCaffrey        RB    CAR            112       1.1   \n3        3.8      Ezekiel Elliott        RB    DAL             67       1.0   \n4        6.1         James Conner        RB    PIT             79       1.6   \n..       ...                   ...      ...    ...            ...       ...   \n188    170.1         Mohamed Sanu        WR     NE             17      10.6   \n189    171.2          Matt Prater        PK    DET             13       5.2   \n190    171.8       Buffalo Defense      DEF    BUF             38       9.8   \n191    172.0          Brett Maher        PK    DAL             32      10.4   \n192    172.3            Dan Bailey       PK    MIN             18       4.8   \n\n     High  Low  Bye          match_name  ...   FGA   PCT    LG  1-19  20-29  \\\n0       1    4   11       saquonbarkley  ...   NaN   NaN   NaN   NaN    NaN   \n1       1    4    6         alvinkamara  ...   NaN   NaN   NaN   NaN    NaN   \n2       1    6   13  christianmccaffrey  ...   NaN   NaN   NaN   NaN    NaN   \n3       1    6   10      ezekielelliott  ...   NaN   NaN   NaN   NaN    NaN   \n4       1   12    8         jamesconner  ...   NaN   NaN   NaN   NaN    NaN   \n..    ...  ...  ...                 ...  ...   ...   ...   ...   ...    ...   \n188   142  180    6         mohamedsanu  ...   NaN   NaN   NaN   NaN    NaN   \n189   163  178    5          mattprater  ...  32.0  87.5  54.0   0.0    8.0   \n190   146  191   11      buffalodefense  ...   NaN   NaN   NaN   NaN    NaN   \n191   145  186   10          brettmaher  ...  36.0  80.6  62.0   0.0   10.0   \n192   166  180    7           danbailey  ...  28.0  75.0  52.0   0.0    5.0   \n\n     30-39  40-49  50+   XPT   XPA  \n0      NaN    NaN  NaN   NaN   NaN  \n1      NaN    NaN  NaN   NaN   NaN  \n2      NaN    NaN  NaN   NaN   NaN  \n3      NaN    NaN  NaN   NaN   NaN  \n4      NaN    NaN  NaN   NaN   NaN  \n..     ...    ...  ...   ...   ...  \n188    NaN    NaN  NaN   NaN   NaN  \n189   12.0    5.0  3.0  30.0  30.0  \n190    NaN    NaN  NaN   NaN   NaN  \n191    6.0    7.0  6.0  32.0  33.0  \n192   11.0    4.0  1.0  30.0  31.0  \n\n[193 rows x 56 columns]",
      "text/html": "<div>\n<style scoped>\n    .dataframe tbody tr th:only-of-type {\n        vertical-align: middle;\n    }\n\n    .dataframe tbody tr th {\n        vertical-align: top;\n    }\n\n    .dataframe thead th {\n        text-align: right;\n    }\n</style>\n<table border=\"1\" class=\"dataframe\">\n  <thead>\n    <tr style=\"text-align: right;\">\n      <th></th>\n      <th>Overall</th>\n      <th>Name</th>\n      <th>Position</th>\n      <th>Team_x</th>\n      <th>Times Drafted</th>\n      <th>Std. Dev</th>\n      <th>High</th>\n      <th>Low</th>\n      <th>Bye</th>\n      <th>match_name</th>\n      <th>...</th>\n      <th>FGA</th>\n      <th>PCT</th>\n      <th>LG</th>\n      <th>1-19</th>\n      <th>20-29</th>\n      <th>30-39</th>\n      <th>40-49</th>\n      <th>50+</th>\n      <th>XPT</th>\n      <th>XPA</th>\n    </tr>\n  </thead>\n  <tbody>\n    <tr>\n      <th>0</th>\n      <td>1.9</td>\n      <td>Saquon Barkley</td>\n      <td>RB</td>\n      <td>NYG</td>\n      <td>185</td>\n      <td>0.8</td>\n      <td>1</td>\n      <td>4</td>\n      <td>11</td>\n      <td>saquonbarkley</td>\n      <td>...</td>\n      <td>NaN</td>\n      <td>NaN</td>\n      <td>NaN</td>\n      <td>NaN</td>\n      <td>NaN</td>\n      <td>NaN</td>\n      <td>NaN</td>\n      <td>NaN</td>\n      <td>NaN</td>\n      <td>NaN</td>\n    </tr>\n    <tr>\n      <th>1</th>\n      <td>2.4</td>\n      <td>Alvin Kamara</td>\n      <td>RB</td>\n      <td>NO</td>\n      <td>90</td>\n      <td>0.8</td>\n      <td>1</td>\n      <td>4</td>\n      <td>6</td>\n      <td>alvinkamara</td>\n      <td>...</td>\n      <td>NaN</td>\n      <td>NaN</td>\n      <td>NaN</td>\n      <td>NaN</td>\n      <td>NaN</td>\n      <td>NaN</td>\n      <td>NaN</td>\n      <td>NaN</td>\n      <td>NaN</td>\n      <td>NaN</td>\n    </tr>\n    <tr>\n      <th>2</th>\n      <td>3.6</td>\n      <td>Christian McCaffrey</td>\n      <td>RB</td>\n      <td>CAR</td>\n      <td>112</td>\n      <td>1.1</td>\n      <td>1</td>\n      <td>6</td>\n      <td>13</td>\n      <td>christianmccaffrey</td>\n      <td>...</td>\n      <td>NaN</td>\n      <td>NaN</td>\n      <td>NaN</td>\n      <td>NaN</td>\n      <td>NaN</td>\n      <td>NaN</td>\n      <td>NaN</td>\n      <td>NaN</td>\n      <td>NaN</td>\n      <td>NaN</td>\n    </tr>\n    <tr>\n      <th>3</th>\n      <td>3.8</td>\n      <td>Ezekiel Elliott</td>\n      <td>RB</td>\n      <td>DAL</td>\n      <td>67</td>\n      <td>1.0</td>\n      <td>1</td>\n      <td>6</td>\n      <td>10</td>\n      <td>ezekielelliott</td>\n      <td>...</td>\n      <td>NaN</td>\n      <td>NaN</td>\n      <td>NaN</td>\n      <td>NaN</td>\n      <td>NaN</td>\n      <td>NaN</td>\n      <td>NaN</td>\n      <td>NaN</td>\n      <td>NaN</td>\n      <td>NaN</td>\n    </tr>\n    <tr>\n      <th>4</th>\n      <td>6.1</td>\n      <td>James Conner</td>\n      <td>RB</td>\n      <td>PIT</td>\n      <td>79</td>\n      <td>1.6</td>\n      <td>1</td>\n      <td>12</td>\n      <td>8</td>\n      <td>jamesconner</td>\n      <td>...</td>\n      <td>NaN</td>\n      <td>NaN</td>\n      <td>NaN</td>\n      <td>NaN</td>\n      <td>NaN</td>\n      <td>NaN</td>\n      <td>NaN</td>\n      <td>NaN</td>\n      <td>NaN</td>\n      <td>NaN</td>\n    </tr>\n    <tr>\n      <th>...</th>\n      <td>...</td>\n      <td>...</td>\n      <td>...</td>\n      <td>...</td>\n      <td>...</td>\n      <td>...</td>\n      <td>...</td>\n      <td>...</td>\n      <td>...</td>\n      <td>...</td>\n      <td>...</td>\n      <td>...</td>\n      <td>...</td>\n      <td>...</td>\n      <td>...</td>\n      <td>...</td>\n      <td>...</td>\n      <td>...</td>\n      <td>...</td>\n      <td>...</td>\n      <td>...</td>\n    </tr>\n    <tr>\n      <th>188</th>\n      <td>170.1</td>\n      <td>Mohamed Sanu</td>\n      <td>WR</td>\n      <td>NE</td>\n      <td>17</td>\n      <td>10.6</td>\n      <td>142</td>\n      <td>180</td>\n      <td>6</td>\n      <td>mohamedsanu</td>\n      <td>...</td>\n      <td>NaN</td>\n      <td>NaN</td>\n      <td>NaN</td>\n      <td>NaN</td>\n      <td>NaN</td>\n      <td>NaN</td>\n      <td>NaN</td>\n      <td>NaN</td>\n      <td>NaN</td>\n      <td>NaN</td>\n    </tr>\n    <tr>\n      <th>189</th>\n      <td>171.2</td>\n      <td>Matt Prater</td>\n      <td>PK</td>\n      <td>DET</td>\n      <td>13</td>\n      <td>5.2</td>\n      <td>163</td>\n      <td>178</td>\n      <td>5</td>\n      <td>mattprater</td>\n      <td>...</td>\n      <td>32.0</td>\n      <td>87.5</td>\n      <td>54.0</td>\n      <td>0.0</td>\n      <td>8.0</td>\n      <td>12.0</td>\n      <td>5.0</td>\n      <td>3.0</td>\n      <td>30.0</td>\n      <td>30.0</td>\n    </tr>\n    <tr>\n      <th>190</th>\n      <td>171.8</td>\n      <td>Buffalo Defense</td>\n      <td>DEF</td>\n      <td>BUF</td>\n      <td>38</td>\n      <td>9.8</td>\n      <td>146</td>\n      <td>191</td>\n      <td>11</td>\n      <td>buffalodefense</td>\n      <td>...</td>\n      <td>NaN</td>\n      <td>NaN</td>\n      <td>NaN</td>\n      <td>NaN</td>\n      <td>NaN</td>\n      <td>NaN</td>\n      <td>NaN</td>\n      <td>NaN</td>\n      <td>NaN</td>\n      <td>NaN</td>\n    </tr>\n    <tr>\n      <th>191</th>\n      <td>172.0</td>\n      <td>Brett Maher</td>\n      <td>PK</td>\n      <td>DAL</td>\n      <td>32</td>\n      <td>10.4</td>\n      <td>145</td>\n      <td>186</td>\n      <td>10</td>\n      <td>brettmaher</td>\n      <td>...</td>\n      <td>36.0</td>\n      <td>80.6</td>\n      <td>62.0</td>\n      <td>0.0</td>\n      <td>10.0</td>\n      <td>6.0</td>\n      <td>7.0</td>\n      <td>6.0</td>\n      <td>32.0</td>\n      <td>33.0</td>\n    </tr>\n    <tr>\n      <th>192</th>\n      <td>172.3</td>\n      <td>Dan Bailey</td>\n      <td>PK</td>\n      <td>MIN</td>\n      <td>18</td>\n      <td>4.8</td>\n      <td>166</td>\n      <td>180</td>\n      <td>7</td>\n      <td>danbailey</td>\n      <td>...</td>\n      <td>28.0</td>\n      <td>75.0</td>\n      <td>52.0</td>\n      <td>0.0</td>\n      <td>5.0</td>\n      <td>11.0</td>\n      <td>4.0</td>\n      <td>1.0</td>\n      <td>30.0</td>\n      <td>31.0</td>\n    </tr>\n  </tbody>\n</table>\n<p>193 rows × 56 columns</p>\n</div>"
     },
     "metadata": {},
     "execution_count": 8
    }
   ],
   "source": [
    "adp"
   ]
  },
  {
   "cell_type": "code",
   "execution_count": 7,
   "metadata": {},
   "outputs": [
    {
     "output_type": "execute_result",
     "data": {
      "text/plain": "Index(['Overall', 'Name', 'Position', 'Team_x', 'Times Drafted', 'Std. Dev',\n       'High', 'Low', 'Bye', 'match_name', 'age', 'all_td', 'fumbles',\n       'fumbles_lost', 'g', 'gs', 'pass_att', 'pass_cmp', 'pass_int',\n       'pass_td', 'pass_yds', 'player', 'pos', 'rec', 'rec_td', 'rec_yds',\n       'rec_yds_per_rec', 'rush_att', 'rush_td', 'rush_yds',\n       'rush_yds_per_att', 'targets', 'two_pt_md', 'two_pt_pass', 'Team Def',\n       'Player_x', 'SACK', 'INT', 'FR', 'FF', 'DEF TD', 'SFTY', 'SPC TD',\n       'Team_y', 'Player_y', 'FG', 'FGA', 'PCT', 'LG', '1-19', '20-29',\n       '30-39', '40-49', '50+', 'XPT', 'XPA'],\n      dtype='object')"
     },
     "metadata": {},
     "execution_count": 7
    }
   ],
   "source": [
    "adp.columns"
   ]
  },
  {
   "cell_type": "code",
   "execution_count": 14,
   "metadata": {},
   "outputs": [],
   "source": [
    "adp = adp.drop(columns=['match_name', 'Bye', 'Team Def', 'Player_x', 'Player_y', 'Team_y'])"
   ]
  },
  {
   "cell_type": "code",
   "execution_count": 16,
   "metadata": {},
   "outputs": [
    {
     "output_type": "execute_result",
     "data": {
      "text/plain": "Index(['Overall', 'Name', 'Position', 'Team_x', 'Times Drafted', 'Std. Dev',\n       'High', 'Low', 'age', 'all_td', 'fumbles', 'fumbles_lost', 'g', 'gs',\n       'pass_att', 'pass_cmp', 'pass_int', 'pass_td', 'pass_yds', 'player',\n       'pos', 'rec', 'rec_td', 'rec_yds', 'rec_yds_per_rec', 'rush_att',\n       'rush_td', 'rush_yds', 'rush_yds_per_att', 'targets', 'two_pt_md',\n       'two_pt_pass', 'SACK', 'INT', 'FR', 'FF', 'DEF TD', 'SFTY', 'SPC TD',\n       'FG', 'FGA', 'PCT', 'LG', '1-19', '20-29', '30-39', '40-49', '50+',\n       'XPT', 'XPA'],\n      dtype='object')"
     },
     "metadata": {},
     "execution_count": 16
    }
   ],
   "source": [
    "adp.columns"
   ]
  },
  {
   "cell_type": "code",
   "execution_count": null,
   "metadata": {},
   "outputs": [],
   "source": []
  }
 ]
}