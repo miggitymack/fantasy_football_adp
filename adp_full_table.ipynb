{
 "metadata": {
  "language_info": {
   "codemirror_mode": {
    "name": "ipython",
    "version": 3
   },
   "file_extension": ".py",
   "mimetype": "text/x-python",
   "name": "python",
   "nbconvert_exporter": "python",
   "pygments_lexer": "ipython3",
   "version": "3.7.6-final"
  },
  "orig_nbformat": 2,
  "kernelspec": {
   "name": "Python 3.7.6 64-bit ('base': conda)",
   "display_name": "Python 3.7.6 64-bit ('base': conda)",
   "metadata": {
    "interpreter": {
     "hash": "468819c82e791b0f9a8e64a9b2ca550cabcbea14dfb8d98bf6b8daf534ac0400"
    }
   }
  }
 },
 "nbformat": 4,
 "nbformat_minor": 2,
 "cells": [
  {
   "cell_type": "code",
   "execution_count": 2,
   "metadata": {},
   "outputs": [],
   "source": [
    "import pandas as pd\n",
    "import numpy as np"
   ]
  },
  {
   "cell_type": "code",
   "execution_count": 3,
   "metadata": {},
   "outputs": [],
   "source": [
    "stats_19 = pd.read_csv('stats_19.csv')\n",
    "dst_19 = pd.read_csv('dst_19.csv', index_col=0)\n",
    "adp_19 = pd.read_csv('adp_19.csv', index_col=0)\n",
    "k_19 = pd.read_csv('k_19.csv', index_col=0)\n"
   ]
  },
  {
   "cell_type": "code",
   "execution_count": 14,
   "metadata": {},
   "outputs": [
    {
     "output_type": "execute_result",
     "data": {
      "text/plain": "      Overall             Name Position Team  Times Drafted  Std. Dev  High  \\\nADP                                                                           \n2.04     16.4  Patrick Mahomes       QB   KC             94       7.1     1   \n\n      Low  Bye  \nADP             \n2.04   27   10  ",
      "text/html": "<div>\n<style scoped>\n    .dataframe tbody tr th:only-of-type {\n        vertical-align: middle;\n    }\n\n    .dataframe tbody tr th {\n        vertical-align: top;\n    }\n\n    .dataframe thead th {\n        text-align: right;\n    }\n</style>\n<table border=\"1\" class=\"dataframe\">\n  <thead>\n    <tr style=\"text-align: right;\">\n      <th></th>\n      <th>Overall</th>\n      <th>Name</th>\n      <th>Position</th>\n      <th>Team</th>\n      <th>Times Drafted</th>\n      <th>Std. Dev</th>\n      <th>High</th>\n      <th>Low</th>\n      <th>Bye</th>\n    </tr>\n    <tr>\n      <th>ADP</th>\n      <th></th>\n      <th></th>\n      <th></th>\n      <th></th>\n      <th></th>\n      <th></th>\n      <th></th>\n      <th></th>\n      <th></th>\n    </tr>\n  </thead>\n  <tbody>\n    <tr>\n      <th>2.04</th>\n      <td>16.4</td>\n      <td>Patrick Mahomes</td>\n      <td>QB</td>\n      <td>KC</td>\n      <td>94</td>\n      <td>7.1</td>\n      <td>1</td>\n      <td>27</td>\n      <td>10</td>\n    </tr>\n  </tbody>\n</table>\n</div>"
     },
     "metadata": {},
     "execution_count": 14
    }
   ],
   "source": [
    "mahomes = adp_19.loc[adp_19['Name'].str.contains('Mahomes')]\n",
    "mahomes['Name'] = 'Patrick Mahomes'\n",
    "adp_19.loc[adp_19['Name'].str.contains('Mahomes')] = mahomes\n",
    "adp_19.loc[adp_19['Name'].str.contains('Mahomes')]"
   ]
  },
  {
   "cell_type": "code",
   "execution_count": 4,
   "metadata": {},
   "outputs": [
    {
     "output_type": "execute_result",
     "data": {
      "text/plain": "      age  all_td  fumbles  fumbles_lost     g    gs  pass_att  pass_cmp  \\\n0    24.0    21.0      1.0           1.0  14.0  14.0       0.0       0.0   \n1    21.0    15.0      0.0           0.0  16.0  16.0       0.0       0.0   \n2    22.0    13.0      4.0           1.0  16.0  16.0       1.0       1.0   \n3    23.0    18.0      1.0           0.0  15.0  13.0       0.0       0.0   \n4    23.0     2.0      9.0           2.0  16.0  16.0     580.0     383.0   \n..    ...     ...      ...           ...   ...   ...       ...       ...   \n636  26.0     0.0      1.0           1.0   2.0   0.0       0.0       0.0   \n637  26.0     0.0      2.0           1.0   4.0   0.0       0.0       0.0   \n638  23.0     0.0      0.0           0.0   2.0   0.0       5.0       0.0   \n639  25.0     0.0      1.0           1.0   1.0   0.0       0.0       0.0   \n640  24.0     0.0      2.0           1.0  13.0   0.0       0.0       0.0   \n\n     pass_int  pass_td  ...  rec_td rec_yds rec_yds_per_rec  rush_att  \\\n0         0.0      0.0  ...     4.0   580.0            9.83     256.0   \n1         0.0      0.0  ...     4.0   721.0            7.92     261.0   \n2         0.0      1.0  ...     6.0   867.0            8.10     219.0   \n3         0.0      0.0  ...     4.0   709.0            8.75     194.0   \n4        12.0     50.0  ...     0.0     0.0             NaN      60.0   \n..        ...      ...  ...     ...     ...             ...       ...   \n636       0.0      0.0  ...     0.0     0.0             NaN       0.0   \n637       0.0      0.0  ...     0.0     3.0            3.00       1.0   \n638       1.0      0.0  ...     0.0     0.0             NaN       1.0   \n639       0.0      0.0  ...     0.0     0.0             NaN       0.0   \n640       0.0      0.0  ...     0.0     0.0             NaN       0.0   \n\n     rush_td  rush_yds  rush_yds_per_att  targets  two_pt_md  two_pt_pass  \n0       17.0    1251.0              4.89     81.0        3.0          NaN  \n1       11.0    1307.0              5.01    121.0        1.0          NaN  \n2        7.0    1098.0              5.01    124.0        NaN          NaN  \n3       14.0     883.0              4.55    105.0        3.0          NaN  \n4        2.0     272.0              4.53      0.0        1.0          NaN  \n..       ...       ...               ...      ...        ...          ...  \n636      0.0       0.0               NaN      0.0        NaN          NaN  \n637      0.0       0.0              0.00      1.0        NaN          NaN  \n638      0.0      -2.0             -2.00      0.0        NaN          NaN  \n639      0.0       0.0               NaN      1.0        NaN          NaN  \n640      0.0       0.0               NaN      0.0        NaN          NaN  \n\n[621 rows x 24 columns]",
      "text/html": "<div>\n<style scoped>\n    .dataframe tbody tr th:only-of-type {\n        vertical-align: middle;\n    }\n\n    .dataframe tbody tr th {\n        vertical-align: top;\n    }\n\n    .dataframe thead th {\n        text-align: right;\n    }\n</style>\n<table border=\"1\" class=\"dataframe\">\n  <thead>\n    <tr style=\"text-align: right;\">\n      <th></th>\n      <th>age</th>\n      <th>all_td</th>\n      <th>fumbles</th>\n      <th>fumbles_lost</th>\n      <th>g</th>\n      <th>gs</th>\n      <th>pass_att</th>\n      <th>pass_cmp</th>\n      <th>pass_int</th>\n      <th>pass_td</th>\n      <th>...</th>\n      <th>rec_td</th>\n      <th>rec_yds</th>\n      <th>rec_yds_per_rec</th>\n      <th>rush_att</th>\n      <th>rush_td</th>\n      <th>rush_yds</th>\n      <th>rush_yds_per_att</th>\n      <th>targets</th>\n      <th>two_pt_md</th>\n      <th>two_pt_pass</th>\n    </tr>\n  </thead>\n  <tbody>\n    <tr>\n      <th>0</th>\n      <td>24.0</td>\n      <td>21.0</td>\n      <td>1.0</td>\n      <td>1.0</td>\n      <td>14.0</td>\n      <td>14.0</td>\n      <td>0.0</td>\n      <td>0.0</td>\n      <td>0.0</td>\n      <td>0.0</td>\n      <td>...</td>\n      <td>4.0</td>\n      <td>580.0</td>\n      <td>9.83</td>\n      <td>256.0</td>\n      <td>17.0</td>\n      <td>1251.0</td>\n      <td>4.89</td>\n      <td>81.0</td>\n      <td>3.0</td>\n      <td>NaN</td>\n    </tr>\n    <tr>\n      <th>1</th>\n      <td>21.0</td>\n      <td>15.0</td>\n      <td>0.0</td>\n      <td>0.0</td>\n      <td>16.0</td>\n      <td>16.0</td>\n      <td>0.0</td>\n      <td>0.0</td>\n      <td>0.0</td>\n      <td>0.0</td>\n      <td>...</td>\n      <td>4.0</td>\n      <td>721.0</td>\n      <td>7.92</td>\n      <td>261.0</td>\n      <td>11.0</td>\n      <td>1307.0</td>\n      <td>5.01</td>\n      <td>121.0</td>\n      <td>1.0</td>\n      <td>NaN</td>\n    </tr>\n    <tr>\n      <th>2</th>\n      <td>22.0</td>\n      <td>13.0</td>\n      <td>4.0</td>\n      <td>1.0</td>\n      <td>16.0</td>\n      <td>16.0</td>\n      <td>1.0</td>\n      <td>1.0</td>\n      <td>0.0</td>\n      <td>1.0</td>\n      <td>...</td>\n      <td>6.0</td>\n      <td>867.0</td>\n      <td>8.10</td>\n      <td>219.0</td>\n      <td>7.0</td>\n      <td>1098.0</td>\n      <td>5.01</td>\n      <td>124.0</td>\n      <td>NaN</td>\n      <td>NaN</td>\n    </tr>\n    <tr>\n      <th>3</th>\n      <td>23.0</td>\n      <td>18.0</td>\n      <td>1.0</td>\n      <td>0.0</td>\n      <td>15.0</td>\n      <td>13.0</td>\n      <td>0.0</td>\n      <td>0.0</td>\n      <td>0.0</td>\n      <td>0.0</td>\n      <td>...</td>\n      <td>4.0</td>\n      <td>709.0</td>\n      <td>8.75</td>\n      <td>194.0</td>\n      <td>14.0</td>\n      <td>883.0</td>\n      <td>4.55</td>\n      <td>105.0</td>\n      <td>3.0</td>\n      <td>NaN</td>\n    </tr>\n    <tr>\n      <th>4</th>\n      <td>23.0</td>\n      <td>2.0</td>\n      <td>9.0</td>\n      <td>2.0</td>\n      <td>16.0</td>\n      <td>16.0</td>\n      <td>580.0</td>\n      <td>383.0</td>\n      <td>12.0</td>\n      <td>50.0</td>\n      <td>...</td>\n      <td>0.0</td>\n      <td>0.0</td>\n      <td>NaN</td>\n      <td>60.0</td>\n      <td>2.0</td>\n      <td>272.0</td>\n      <td>4.53</td>\n      <td>0.0</td>\n      <td>1.0</td>\n      <td>NaN</td>\n    </tr>\n    <tr>\n      <th>...</th>\n      <td>...</td>\n      <td>...</td>\n      <td>...</td>\n      <td>...</td>\n      <td>...</td>\n      <td>...</td>\n      <td>...</td>\n      <td>...</td>\n      <td>...</td>\n      <td>...</td>\n      <td>...</td>\n      <td>...</td>\n      <td>...</td>\n      <td>...</td>\n      <td>...</td>\n      <td>...</td>\n      <td>...</td>\n      <td>...</td>\n      <td>...</td>\n      <td>...</td>\n      <td>...</td>\n    </tr>\n    <tr>\n      <th>636</th>\n      <td>26.0</td>\n      <td>0.0</td>\n      <td>1.0</td>\n      <td>1.0</td>\n      <td>2.0</td>\n      <td>0.0</td>\n      <td>0.0</td>\n      <td>0.0</td>\n      <td>0.0</td>\n      <td>0.0</td>\n      <td>...</td>\n      <td>0.0</td>\n      <td>0.0</td>\n      <td>NaN</td>\n      <td>0.0</td>\n      <td>0.0</td>\n      <td>0.0</td>\n      <td>NaN</td>\n      <td>0.0</td>\n      <td>NaN</td>\n      <td>NaN</td>\n    </tr>\n    <tr>\n      <th>637</th>\n      <td>26.0</td>\n      <td>0.0</td>\n      <td>2.0</td>\n      <td>1.0</td>\n      <td>4.0</td>\n      <td>0.0</td>\n      <td>0.0</td>\n      <td>0.0</td>\n      <td>0.0</td>\n      <td>0.0</td>\n      <td>...</td>\n      <td>0.0</td>\n      <td>3.0</td>\n      <td>3.00</td>\n      <td>1.0</td>\n      <td>0.0</td>\n      <td>0.0</td>\n      <td>0.00</td>\n      <td>1.0</td>\n      <td>NaN</td>\n      <td>NaN</td>\n    </tr>\n    <tr>\n      <th>638</th>\n      <td>23.0</td>\n      <td>0.0</td>\n      <td>0.0</td>\n      <td>0.0</td>\n      <td>2.0</td>\n      <td>0.0</td>\n      <td>5.0</td>\n      <td>0.0</td>\n      <td>1.0</td>\n      <td>0.0</td>\n      <td>...</td>\n      <td>0.0</td>\n      <td>0.0</td>\n      <td>NaN</td>\n      <td>1.0</td>\n      <td>0.0</td>\n      <td>-2.0</td>\n      <td>-2.00</td>\n      <td>0.0</td>\n      <td>NaN</td>\n      <td>NaN</td>\n    </tr>\n    <tr>\n      <th>639</th>\n      <td>25.0</td>\n      <td>0.0</td>\n      <td>1.0</td>\n      <td>1.0</td>\n      <td>1.0</td>\n      <td>0.0</td>\n      <td>0.0</td>\n      <td>0.0</td>\n      <td>0.0</td>\n      <td>0.0</td>\n      <td>...</td>\n      <td>0.0</td>\n      <td>0.0</td>\n      <td>NaN</td>\n      <td>0.0</td>\n      <td>0.0</td>\n      <td>0.0</td>\n      <td>NaN</td>\n      <td>1.0</td>\n      <td>NaN</td>\n      <td>NaN</td>\n    </tr>\n    <tr>\n      <th>640</th>\n      <td>24.0</td>\n      <td>0.0</td>\n      <td>2.0</td>\n      <td>1.0</td>\n      <td>13.0</td>\n      <td>0.0</td>\n      <td>0.0</td>\n      <td>0.0</td>\n      <td>0.0</td>\n      <td>0.0</td>\n      <td>...</td>\n      <td>0.0</td>\n      <td>0.0</td>\n      <td>NaN</td>\n      <td>0.0</td>\n      <td>0.0</td>\n      <td>0.0</td>\n      <td>NaN</td>\n      <td>0.0</td>\n      <td>NaN</td>\n      <td>NaN</td>\n    </tr>\n  </tbody>\n</table>\n<p>621 rows × 24 columns</p>\n</div>"
     },
     "metadata": {},
     "execution_count": 4
    }
   ],
   "source": [
    "stats_19 = stats_19.drop(stats_19.loc[stats_19.player.isnull()].index) \n",
    "stats_19"
   ]
  },
  {
   "cell_type": "code",
   "execution_count": 5,
   "metadata": {},
   "outputs": [],
   "source": [
    "def format_name (name):\n",
    "    return ''.join(e.lower() for e in name if e.isalnum())\n",
    "\n",
    "adp_rename = adp_19.Name.apply(lambda x: format_name(x))\n",
    "stats_rename = stats_19.player.apply(lambda x: format_name(x))\n",
    "\n",
    "adp_19['match_name'] = adp_rename\n",
    "\n",
    "stats_19['match_name'] = stats_rename\n",
    "\n",
    "adp_join = adp_19.merge(stats_19, how=\"left\", left_on=\"match_name\", right_on=\"match_name\")\n"
   ]
  },
  {
   "cell_type": "code",
   "execution_count": 6,
   "metadata": {},
   "outputs": [
    {
     "output_type": "execute_result",
     "data": {
      "text/plain": "     Overall                  Name Position Team  Times Drafted  Std. Dev  \\\n0        1.9       Saquon Barkley        RB  NYG            185       0.8   \n1        2.4         Alvin Kamara        RB   NO             90       0.8   \n2        3.6  Christian McCaffrey        RB  CAR            112       1.1   \n3        3.8      Ezekiel Elliott        RB  DAL             67       1.0   \n4        6.1         James Conner        RB  PIT             79       1.6   \n..       ...                   ...      ...  ...            ...       ...   \n188    170.1         Mohamed Sanu        WR   NE             17      10.6   \n189    171.2          Matt Prater        PK  DET             13       5.2   \n190    171.8       Buffalo Defense      DEF  BUF             38       9.8   \n191    172.0          Brett Maher        PK  DAL             32      10.4   \n192    172.3            Dan Bailey       PK  MIN             18       4.8   \n\n     High  Low  Bye          match_name  ...  rec_td  rec_yds  \\\n0       1    4   11       saquonbarkley  ...     4.0    721.0   \n1       1    4    6         alvinkamara  ...     4.0    709.0   \n2       1    6   13  christianmccaffrey  ...     6.0    867.0   \n3       1    6   10      ezekielelliott  ...     3.0    567.0   \n4       1   12    8         jamesconner  ...     1.0    497.0   \n..    ...  ...  ...                 ...  ...     ...      ...   \n188   142  180    6         mohamedsanu  ...     4.0    838.0   \n189   163  178    5          mattprater  ...     NaN      NaN   \n190   146  191   11      buffalodefense  ...     NaN      NaN   \n191   145  186   10          brettmaher  ...     NaN      NaN   \n192   166  180    7           danbailey  ...     NaN      NaN   \n\n     rec_yds_per_rec  rush_att  rush_td  rush_yds  rush_yds_per_att  targets  \\\n0               7.92     261.0     11.0    1307.0              5.01    121.0   \n1               8.75     194.0     14.0     883.0              4.55    105.0   \n2               8.10     219.0      7.0    1098.0              5.01    124.0   \n3               7.36     304.0      6.0    1434.0              4.72     95.0   \n4               9.04     215.0     12.0     973.0              4.53     71.0   \n..               ...       ...      ...       ...               ...      ...   \n188            12.70       7.0      0.0      44.0              6.29     94.0   \n189              NaN       NaN      NaN       NaN               NaN      NaN   \n190              NaN       NaN      NaN       NaN               NaN      NaN   \n191              NaN       NaN      NaN       NaN               NaN      NaN   \n192              NaN       NaN      NaN       NaN               NaN      NaN   \n\n     two_pt_md  two_pt_pass  \n0          1.0          NaN  \n1          3.0          NaN  \n2          NaN          NaN  \n3          NaN          NaN  \n4          2.0          NaN  \n..         ...          ...  \n188        1.0          NaN  \n189        NaN          NaN  \n190        NaN          NaN  \n191        NaN          NaN  \n192        NaN          NaN  \n\n[193 rows x 34 columns]",
      "text/html": "<div>\n<style scoped>\n    .dataframe tbody tr th:only-of-type {\n        vertical-align: middle;\n    }\n\n    .dataframe tbody tr th {\n        vertical-align: top;\n    }\n\n    .dataframe thead th {\n        text-align: right;\n    }\n</style>\n<table border=\"1\" class=\"dataframe\">\n  <thead>\n    <tr style=\"text-align: right;\">\n      <th></th>\n      <th>Overall</th>\n      <th>Name</th>\n      <th>Position</th>\n      <th>Team</th>\n      <th>Times Drafted</th>\n      <th>Std. Dev</th>\n      <th>High</th>\n      <th>Low</th>\n      <th>Bye</th>\n      <th>match_name</th>\n      <th>...</th>\n      <th>rec_td</th>\n      <th>rec_yds</th>\n      <th>rec_yds_per_rec</th>\n      <th>rush_att</th>\n      <th>rush_td</th>\n      <th>rush_yds</th>\n      <th>rush_yds_per_att</th>\n      <th>targets</th>\n      <th>two_pt_md</th>\n      <th>two_pt_pass</th>\n    </tr>\n  </thead>\n  <tbody>\n    <tr>\n      <th>0</th>\n      <td>1.9</td>\n      <td>Saquon Barkley</td>\n      <td>RB</td>\n      <td>NYG</td>\n      <td>185</td>\n      <td>0.8</td>\n      <td>1</td>\n      <td>4</td>\n      <td>11</td>\n      <td>saquonbarkley</td>\n      <td>...</td>\n      <td>4.0</td>\n      <td>721.0</td>\n      <td>7.92</td>\n      <td>261.0</td>\n      <td>11.0</td>\n      <td>1307.0</td>\n      <td>5.01</td>\n      <td>121.0</td>\n      <td>1.0</td>\n      <td>NaN</td>\n    </tr>\n    <tr>\n      <th>1</th>\n      <td>2.4</td>\n      <td>Alvin Kamara</td>\n      <td>RB</td>\n      <td>NO</td>\n      <td>90</td>\n      <td>0.8</td>\n      <td>1</td>\n      <td>4</td>\n      <td>6</td>\n      <td>alvinkamara</td>\n      <td>...</td>\n      <td>4.0</td>\n      <td>709.0</td>\n      <td>8.75</td>\n      <td>194.0</td>\n      <td>14.0</td>\n      <td>883.0</td>\n      <td>4.55</td>\n      <td>105.0</td>\n      <td>3.0</td>\n      <td>NaN</td>\n    </tr>\n    <tr>\n      <th>2</th>\n      <td>3.6</td>\n      <td>Christian McCaffrey</td>\n      <td>RB</td>\n      <td>CAR</td>\n      <td>112</td>\n      <td>1.1</td>\n      <td>1</td>\n      <td>6</td>\n      <td>13</td>\n      <td>christianmccaffrey</td>\n      <td>...</td>\n      <td>6.0</td>\n      <td>867.0</td>\n      <td>8.10</td>\n      <td>219.0</td>\n      <td>7.0</td>\n      <td>1098.0</td>\n      <td>5.01</td>\n      <td>124.0</td>\n      <td>NaN</td>\n      <td>NaN</td>\n    </tr>\n    <tr>\n      <th>3</th>\n      <td>3.8</td>\n      <td>Ezekiel Elliott</td>\n      <td>RB</td>\n      <td>DAL</td>\n      <td>67</td>\n      <td>1.0</td>\n      <td>1</td>\n      <td>6</td>\n      <td>10</td>\n      <td>ezekielelliott</td>\n      <td>...</td>\n      <td>3.0</td>\n      <td>567.0</td>\n      <td>7.36</td>\n      <td>304.0</td>\n      <td>6.0</td>\n      <td>1434.0</td>\n      <td>4.72</td>\n      <td>95.0</td>\n      <td>NaN</td>\n      <td>NaN</td>\n    </tr>\n    <tr>\n      <th>4</th>\n      <td>6.1</td>\n      <td>James Conner</td>\n      <td>RB</td>\n      <td>PIT</td>\n      <td>79</td>\n      <td>1.6</td>\n      <td>1</td>\n      <td>12</td>\n      <td>8</td>\n      <td>jamesconner</td>\n      <td>...</td>\n      <td>1.0</td>\n      <td>497.0</td>\n      <td>9.04</td>\n      <td>215.0</td>\n      <td>12.0</td>\n      <td>973.0</td>\n      <td>4.53</td>\n      <td>71.0</td>\n      <td>2.0</td>\n      <td>NaN</td>\n    </tr>\n    <tr>\n      <th>...</th>\n      <td>...</td>\n      <td>...</td>\n      <td>...</td>\n      <td>...</td>\n      <td>...</td>\n      <td>...</td>\n      <td>...</td>\n      <td>...</td>\n      <td>...</td>\n      <td>...</td>\n      <td>...</td>\n      <td>...</td>\n      <td>...</td>\n      <td>...</td>\n      <td>...</td>\n      <td>...</td>\n      <td>...</td>\n      <td>...</td>\n      <td>...</td>\n      <td>...</td>\n      <td>...</td>\n    </tr>\n    <tr>\n      <th>188</th>\n      <td>170.1</td>\n      <td>Mohamed Sanu</td>\n      <td>WR</td>\n      <td>NE</td>\n      <td>17</td>\n      <td>10.6</td>\n      <td>142</td>\n      <td>180</td>\n      <td>6</td>\n      <td>mohamedsanu</td>\n      <td>...</td>\n      <td>4.0</td>\n      <td>838.0</td>\n      <td>12.70</td>\n      <td>7.0</td>\n      <td>0.0</td>\n      <td>44.0</td>\n      <td>6.29</td>\n      <td>94.0</td>\n      <td>1.0</td>\n      <td>NaN</td>\n    </tr>\n    <tr>\n      <th>189</th>\n      <td>171.2</td>\n      <td>Matt Prater</td>\n      <td>PK</td>\n      <td>DET</td>\n      <td>13</td>\n      <td>5.2</td>\n      <td>163</td>\n      <td>178</td>\n      <td>5</td>\n      <td>mattprater</td>\n      <td>...</td>\n      <td>NaN</td>\n      <td>NaN</td>\n      <td>NaN</td>\n      <td>NaN</td>\n      <td>NaN</td>\n      <td>NaN</td>\n      <td>NaN</td>\n      <td>NaN</td>\n      <td>NaN</td>\n      <td>NaN</td>\n    </tr>\n    <tr>\n      <th>190</th>\n      <td>171.8</td>\n      <td>Buffalo Defense</td>\n      <td>DEF</td>\n      <td>BUF</td>\n      <td>38</td>\n      <td>9.8</td>\n      <td>146</td>\n      <td>191</td>\n      <td>11</td>\n      <td>buffalodefense</td>\n      <td>...</td>\n      <td>NaN</td>\n      <td>NaN</td>\n      <td>NaN</td>\n      <td>NaN</td>\n      <td>NaN</td>\n      <td>NaN</td>\n      <td>NaN</td>\n      <td>NaN</td>\n      <td>NaN</td>\n      <td>NaN</td>\n    </tr>\n    <tr>\n      <th>191</th>\n      <td>172.0</td>\n      <td>Brett Maher</td>\n      <td>PK</td>\n      <td>DAL</td>\n      <td>32</td>\n      <td>10.4</td>\n      <td>145</td>\n      <td>186</td>\n      <td>10</td>\n      <td>brettmaher</td>\n      <td>...</td>\n      <td>NaN</td>\n      <td>NaN</td>\n      <td>NaN</td>\n      <td>NaN</td>\n      <td>NaN</td>\n      <td>NaN</td>\n      <td>NaN</td>\n      <td>NaN</td>\n      <td>NaN</td>\n      <td>NaN</td>\n    </tr>\n    <tr>\n      <th>192</th>\n      <td>172.3</td>\n      <td>Dan Bailey</td>\n      <td>PK</td>\n      <td>MIN</td>\n      <td>18</td>\n      <td>4.8</td>\n      <td>166</td>\n      <td>180</td>\n      <td>7</td>\n      <td>danbailey</td>\n      <td>...</td>\n      <td>NaN</td>\n      <td>NaN</td>\n      <td>NaN</td>\n      <td>NaN</td>\n      <td>NaN</td>\n      <td>NaN</td>\n      <td>NaN</td>\n      <td>NaN</td>\n      <td>NaN</td>\n      <td>NaN</td>\n    </tr>\n  </tbody>\n</table>\n<p>193 rows × 34 columns</p>\n</div>"
     },
     "metadata": {},
     "execution_count": 6
    }
   ],
   "source": [
    "adp_join"
   ]
  },
  {
   "cell_type": "code",
   "execution_count": 7,
   "metadata": {},
   "outputs": [],
   "source": [
    "def format_defense(defense):\n",
    "    team = defense.split(' ')[-1]\n",
    "    return team[1:-1]\n",
    "\n",
    "dst_19 = dst_19.loc[dst_19.SACK.notnull()]\n",
    "dst_19['Team'] = dst_19.Player.apply(lambda x: format_defense(x))\n",
    "dst_19 = dst_19.drop(columns=['FPTS', 'FPTS/G', 'OWN', 'G'])"
   ]
  },
  {
   "cell_type": "code",
   "execution_count": 8,
   "metadata": {},
   "outputs": [
    {
     "output_type": "execute_result",
     "data": {
      "text/plain": "                              Player  SACK   INT    FR    FF  DEF TD  SFTY  \\\nRank                                                                         \n1.0        New England Patriots (NE)  47.0  25.0  11.0  14.0     5.0   1.0   \n2.0        Pittsburgh Steelers (PIT)  54.0  20.0  18.0  19.0     3.0   0.0   \n3.0         San Francisco 49ers (SF)  48.0  12.0  15.0  21.0     5.0   0.0   \n4.0           Baltimore Ravens (BAL)  37.0  13.0  12.0  15.0     6.0   1.0   \n5.0           Los Angeles Rams (LAR)  50.0  13.0  11.0  13.0     4.0   1.0   \n6.0          Minnesota Vikings (MIN)  48.0  17.0  14.0  18.0     2.0   1.0   \n7.0              New York Jets (NYJ)  35.0  12.0   9.0   8.0     5.0   2.0   \n8.0          Kansas City Chiefs (KC)  45.0  16.0   7.0  12.0     3.0   0.0   \n9.0          New Orleans Saints (NO)  51.0  13.0  10.0  11.0     3.0   1.0   \n10.0       Tampa Bay Buccaneers (TB)  47.0  12.0  16.0  20.0     6.0   0.0   \n11.0          Tennessee Titans (TEN)  43.0  14.0   9.0  10.0     3.0   1.0   \n12.0             Buffalo Bills (BUF)  44.0  14.0   9.0  15.0     0.0   1.0   \n13.0          Seattle Seahawks (SEA)  28.0  16.0  16.0  18.0     3.0   0.0   \n14.0        Indianapolis Colts (IND)  41.0  15.0   8.0  13.0     1.0   2.0   \n15.0       Philadelphia Eagles (PHI)  43.0  11.0   9.0  15.0     3.0   0.0   \n16.0          Green Bay Packers (GB)  41.0  17.0   7.0  12.0     0.0   0.0   \n17.0      Jacksonville Jaguars (JAC)  47.0  10.0   9.0  13.0     2.0   0.0   \n18.0            Denver Broncos (DEN)  40.0  10.0   6.0   8.0     1.0   0.0   \n19.0            Dallas Cowboys (DAL)  39.0   7.0  10.0  13.0     1.0   0.0   \n20.0             Chicago Bears (CHI)  32.0  10.0   9.0  12.0     1.0   1.0   \n21.0         Carolina Panthers (CAR)  53.0  14.0   7.0   8.0     1.0   2.0   \n22.0           Atlanta Falcons (ATL)  28.0  12.0   8.0  13.0     2.0   0.0   \n23.0            Houston Texans (HOU)  31.0  12.0  10.0  14.0     2.0   0.0   \n24.0          Cleveland Browns (CLE)  38.0  14.0   6.0  12.0     1.0   0.0   \n25.0  Washington Football Team (WAS)  46.0  13.0   9.0  15.0     0.0   0.0   \n26.0           New York Giants (NYG)  36.0  10.0   6.0   8.0     2.0   1.0   \n27.0      Los Angeles Chargers (LAC)  30.0  11.0   3.0   5.0     0.0   0.0   \n28.0          Las Vegas Raiders (LV)  32.0   9.0   6.0   8.0     2.0   0.0   \n29.0         Arizona Cardinals (ARI)  40.0   7.0  10.0  19.0     0.0   0.0   \n30.0             Detroit Lions (DET)  28.0   7.0  11.0  13.0     1.0   0.0   \n31.0        Cincinnati Bengals (CIN)  31.0  11.0   5.0   9.0     0.0   1.0   \n32.0            Miami Dolphins (MIA)  23.0  13.0   3.0   9.0     1.0   1.0   \n\n      SPC TD Team  \nRank               \n1.0      2.0   NE  \n2.0      1.0  PIT  \n3.0      0.0   SF  \n4.0      0.0  BAL  \n5.0      0.0  LAR  \n6.0      0.0  MIN  \n7.0      1.0  NYJ  \n8.0      1.0   KC  \n9.0      1.0   NO  \n10.0     0.0   TB  \n11.0     1.0  TEN  \n12.0     1.0  BUF  \n13.0     0.0  SEA  \n14.0     2.0  IND  \n15.0     0.0  PHI  \n16.0     0.0   GB  \n17.0     0.0  JAC  \n18.0     0.0  DEN  \n19.0     0.0  DAL  \n20.0     1.0  CHI  \n21.0     0.0  CAR  \n22.0     1.0  ATL  \n23.0     0.0  HOU  \n24.0     0.0  CLE  \n25.0     1.0  WAS  \n26.0     0.0  NYG  \n27.0     1.0  LAC  \n28.0     0.0   LV  \n29.0     0.0  ARI  \n30.0     2.0  DET  \n31.0     1.0  CIN  \n32.0     1.0  MIA  ",
      "text/html": "<div>\n<style scoped>\n    .dataframe tbody tr th:only-of-type {\n        vertical-align: middle;\n    }\n\n    .dataframe tbody tr th {\n        vertical-align: top;\n    }\n\n    .dataframe thead th {\n        text-align: right;\n    }\n</style>\n<table border=\"1\" class=\"dataframe\">\n  <thead>\n    <tr style=\"text-align: right;\">\n      <th></th>\n      <th>Player</th>\n      <th>SACK</th>\n      <th>INT</th>\n      <th>FR</th>\n      <th>FF</th>\n      <th>DEF TD</th>\n      <th>SFTY</th>\n      <th>SPC TD</th>\n      <th>Team</th>\n    </tr>\n    <tr>\n      <th>Rank</th>\n      <th></th>\n      <th></th>\n      <th></th>\n      <th></th>\n      <th></th>\n      <th></th>\n      <th></th>\n      <th></th>\n      <th></th>\n    </tr>\n  </thead>\n  <tbody>\n    <tr>\n      <th>1.0</th>\n      <td>New England Patriots (NE)</td>\n      <td>47.0</td>\n      <td>25.0</td>\n      <td>11.0</td>\n      <td>14.0</td>\n      <td>5.0</td>\n      <td>1.0</td>\n      <td>2.0</td>\n      <td>NE</td>\n    </tr>\n    <tr>\n      <th>2.0</th>\n      <td>Pittsburgh Steelers (PIT)</td>\n      <td>54.0</td>\n      <td>20.0</td>\n      <td>18.0</td>\n      <td>19.0</td>\n      <td>3.0</td>\n      <td>0.0</td>\n      <td>1.0</td>\n      <td>PIT</td>\n    </tr>\n    <tr>\n      <th>3.0</th>\n      <td>San Francisco 49ers (SF)</td>\n      <td>48.0</td>\n      <td>12.0</td>\n      <td>15.0</td>\n      <td>21.0</td>\n      <td>5.0</td>\n      <td>0.0</td>\n      <td>0.0</td>\n      <td>SF</td>\n    </tr>\n    <tr>\n      <th>4.0</th>\n      <td>Baltimore Ravens (BAL)</td>\n      <td>37.0</td>\n      <td>13.0</td>\n      <td>12.0</td>\n      <td>15.0</td>\n      <td>6.0</td>\n      <td>1.0</td>\n      <td>0.0</td>\n      <td>BAL</td>\n    </tr>\n    <tr>\n      <th>5.0</th>\n      <td>Los Angeles Rams (LAR)</td>\n      <td>50.0</td>\n      <td>13.0</td>\n      <td>11.0</td>\n      <td>13.0</td>\n      <td>4.0</td>\n      <td>1.0</td>\n      <td>0.0</td>\n      <td>LAR</td>\n    </tr>\n    <tr>\n      <th>6.0</th>\n      <td>Minnesota Vikings (MIN)</td>\n      <td>48.0</td>\n      <td>17.0</td>\n      <td>14.0</td>\n      <td>18.0</td>\n      <td>2.0</td>\n      <td>1.0</td>\n      <td>0.0</td>\n      <td>MIN</td>\n    </tr>\n    <tr>\n      <th>7.0</th>\n      <td>New York Jets (NYJ)</td>\n      <td>35.0</td>\n      <td>12.0</td>\n      <td>9.0</td>\n      <td>8.0</td>\n      <td>5.0</td>\n      <td>2.0</td>\n      <td>1.0</td>\n      <td>NYJ</td>\n    </tr>\n    <tr>\n      <th>8.0</th>\n      <td>Kansas City Chiefs (KC)</td>\n      <td>45.0</td>\n      <td>16.0</td>\n      <td>7.0</td>\n      <td>12.0</td>\n      <td>3.0</td>\n      <td>0.0</td>\n      <td>1.0</td>\n      <td>KC</td>\n    </tr>\n    <tr>\n      <th>9.0</th>\n      <td>New Orleans Saints (NO)</td>\n      <td>51.0</td>\n      <td>13.0</td>\n      <td>10.0</td>\n      <td>11.0</td>\n      <td>3.0</td>\n      <td>1.0</td>\n      <td>1.0</td>\n      <td>NO</td>\n    </tr>\n    <tr>\n      <th>10.0</th>\n      <td>Tampa Bay Buccaneers (TB)</td>\n      <td>47.0</td>\n      <td>12.0</td>\n      <td>16.0</td>\n      <td>20.0</td>\n      <td>6.0</td>\n      <td>0.0</td>\n      <td>0.0</td>\n      <td>TB</td>\n    </tr>\n    <tr>\n      <th>11.0</th>\n      <td>Tennessee Titans (TEN)</td>\n      <td>43.0</td>\n      <td>14.0</td>\n      <td>9.0</td>\n      <td>10.0</td>\n      <td>3.0</td>\n      <td>1.0</td>\n      <td>1.0</td>\n      <td>TEN</td>\n    </tr>\n    <tr>\n      <th>12.0</th>\n      <td>Buffalo Bills (BUF)</td>\n      <td>44.0</td>\n      <td>14.0</td>\n      <td>9.0</td>\n      <td>15.0</td>\n      <td>0.0</td>\n      <td>1.0</td>\n      <td>1.0</td>\n      <td>BUF</td>\n    </tr>\n    <tr>\n      <th>13.0</th>\n      <td>Seattle Seahawks (SEA)</td>\n      <td>28.0</td>\n      <td>16.0</td>\n      <td>16.0</td>\n      <td>18.0</td>\n      <td>3.0</td>\n      <td>0.0</td>\n      <td>0.0</td>\n      <td>SEA</td>\n    </tr>\n    <tr>\n      <th>14.0</th>\n      <td>Indianapolis Colts (IND)</td>\n      <td>41.0</td>\n      <td>15.0</td>\n      <td>8.0</td>\n      <td>13.0</td>\n      <td>1.0</td>\n      <td>2.0</td>\n      <td>2.0</td>\n      <td>IND</td>\n    </tr>\n    <tr>\n      <th>15.0</th>\n      <td>Philadelphia Eagles (PHI)</td>\n      <td>43.0</td>\n      <td>11.0</td>\n      <td>9.0</td>\n      <td>15.0</td>\n      <td>3.0</td>\n      <td>0.0</td>\n      <td>0.0</td>\n      <td>PHI</td>\n    </tr>\n    <tr>\n      <th>16.0</th>\n      <td>Green Bay Packers (GB)</td>\n      <td>41.0</td>\n      <td>17.0</td>\n      <td>7.0</td>\n      <td>12.0</td>\n      <td>0.0</td>\n      <td>0.0</td>\n      <td>0.0</td>\n      <td>GB</td>\n    </tr>\n    <tr>\n      <th>17.0</th>\n      <td>Jacksonville Jaguars (JAC)</td>\n      <td>47.0</td>\n      <td>10.0</td>\n      <td>9.0</td>\n      <td>13.0</td>\n      <td>2.0</td>\n      <td>0.0</td>\n      <td>0.0</td>\n      <td>JAC</td>\n    </tr>\n    <tr>\n      <th>18.0</th>\n      <td>Denver Broncos (DEN)</td>\n      <td>40.0</td>\n      <td>10.0</td>\n      <td>6.0</td>\n      <td>8.0</td>\n      <td>1.0</td>\n      <td>0.0</td>\n      <td>0.0</td>\n      <td>DEN</td>\n    </tr>\n    <tr>\n      <th>19.0</th>\n      <td>Dallas Cowboys (DAL)</td>\n      <td>39.0</td>\n      <td>7.0</td>\n      <td>10.0</td>\n      <td>13.0</td>\n      <td>1.0</td>\n      <td>0.0</td>\n      <td>0.0</td>\n      <td>DAL</td>\n    </tr>\n    <tr>\n      <th>20.0</th>\n      <td>Chicago Bears (CHI)</td>\n      <td>32.0</td>\n      <td>10.0</td>\n      <td>9.0</td>\n      <td>12.0</td>\n      <td>1.0</td>\n      <td>1.0</td>\n      <td>1.0</td>\n      <td>CHI</td>\n    </tr>\n    <tr>\n      <th>21.0</th>\n      <td>Carolina Panthers (CAR)</td>\n      <td>53.0</td>\n      <td>14.0</td>\n      <td>7.0</td>\n      <td>8.0</td>\n      <td>1.0</td>\n      <td>2.0</td>\n      <td>0.0</td>\n      <td>CAR</td>\n    </tr>\n    <tr>\n      <th>22.0</th>\n      <td>Atlanta Falcons (ATL)</td>\n      <td>28.0</td>\n      <td>12.0</td>\n      <td>8.0</td>\n      <td>13.0</td>\n      <td>2.0</td>\n      <td>0.0</td>\n      <td>1.0</td>\n      <td>ATL</td>\n    </tr>\n    <tr>\n      <th>23.0</th>\n      <td>Houston Texans (HOU)</td>\n      <td>31.0</td>\n      <td>12.0</td>\n      <td>10.0</td>\n      <td>14.0</td>\n      <td>2.0</td>\n      <td>0.0</td>\n      <td>0.0</td>\n      <td>HOU</td>\n    </tr>\n    <tr>\n      <th>24.0</th>\n      <td>Cleveland Browns (CLE)</td>\n      <td>38.0</td>\n      <td>14.0</td>\n      <td>6.0</td>\n      <td>12.0</td>\n      <td>1.0</td>\n      <td>0.0</td>\n      <td>0.0</td>\n      <td>CLE</td>\n    </tr>\n    <tr>\n      <th>25.0</th>\n      <td>Washington Football Team (WAS)</td>\n      <td>46.0</td>\n      <td>13.0</td>\n      <td>9.0</td>\n      <td>15.0</td>\n      <td>0.0</td>\n      <td>0.0</td>\n      <td>1.0</td>\n      <td>WAS</td>\n    </tr>\n    <tr>\n      <th>26.0</th>\n      <td>New York Giants (NYG)</td>\n      <td>36.0</td>\n      <td>10.0</td>\n      <td>6.0</td>\n      <td>8.0</td>\n      <td>2.0</td>\n      <td>1.0</td>\n      <td>0.0</td>\n      <td>NYG</td>\n    </tr>\n    <tr>\n      <th>27.0</th>\n      <td>Los Angeles Chargers (LAC)</td>\n      <td>30.0</td>\n      <td>11.0</td>\n      <td>3.0</td>\n      <td>5.0</td>\n      <td>0.0</td>\n      <td>0.0</td>\n      <td>1.0</td>\n      <td>LAC</td>\n    </tr>\n    <tr>\n      <th>28.0</th>\n      <td>Las Vegas Raiders (LV)</td>\n      <td>32.0</td>\n      <td>9.0</td>\n      <td>6.0</td>\n      <td>8.0</td>\n      <td>2.0</td>\n      <td>0.0</td>\n      <td>0.0</td>\n      <td>LV</td>\n    </tr>\n    <tr>\n      <th>29.0</th>\n      <td>Arizona Cardinals (ARI)</td>\n      <td>40.0</td>\n      <td>7.0</td>\n      <td>10.0</td>\n      <td>19.0</td>\n      <td>0.0</td>\n      <td>0.0</td>\n      <td>0.0</td>\n      <td>ARI</td>\n    </tr>\n    <tr>\n      <th>30.0</th>\n      <td>Detroit Lions (DET)</td>\n      <td>28.0</td>\n      <td>7.0</td>\n      <td>11.0</td>\n      <td>13.0</td>\n      <td>1.0</td>\n      <td>0.0</td>\n      <td>2.0</td>\n      <td>DET</td>\n    </tr>\n    <tr>\n      <th>31.0</th>\n      <td>Cincinnati Bengals (CIN)</td>\n      <td>31.0</td>\n      <td>11.0</td>\n      <td>5.0</td>\n      <td>9.0</td>\n      <td>0.0</td>\n      <td>1.0</td>\n      <td>1.0</td>\n      <td>CIN</td>\n    </tr>\n    <tr>\n      <th>32.0</th>\n      <td>Miami Dolphins (MIA)</td>\n      <td>23.0</td>\n      <td>13.0</td>\n      <td>3.0</td>\n      <td>9.0</td>\n      <td>1.0</td>\n      <td>1.0</td>\n      <td>1.0</td>\n      <td>MIA</td>\n    </tr>\n  </tbody>\n</table>\n</div>"
     },
     "metadata": {},
     "execution_count": 8
    }
   ],
   "source": [
    "dst_19"
   ]
  },
  {
   "cell_type": "code",
   "execution_count": 9,
   "metadata": {},
   "outputs": [],
   "source": [
    "\n",
    "adp_join['Team Def'] = adp_join.loc[adp_join['Name'].str.contains('Defense')]['Team']\n",
    "adp_join = adp_join.merge(dst_19, how=\"left\", left_on=\"Team Def\", right_on=\"Team\")\n",
    "\n"
   ]
  },
  {
   "cell_type": "code",
   "execution_count": 27,
   "metadata": {},
   "outputs": [],
   "source": [
    "k_19 = k_19.loc[k_19.Player.notnull()]\n",
    "k_19 = k_19.drop(columns=['FPTS', 'FPTS/G', 'OWN', 'G'])\n",
    "\n",
    "def format_k (kicker):\n",
    "    kicker = kicker.split(' ')[0:-1]\n",
    "    kicker = ''.join(kicker)\n",
    "    return ''.join(e.lower() for e in kicker if e.isalnum())\n",
    "\n",
    "k_rename = k_19.Player.apply(lambda x: format_k(x))\n",
    "\n",
    "k_19['match_name'] = k_rename\n",
    "\n",
    "adp_join = adp_join.merge(k_19, how=\"left\", left_on=\"match_name\", right_on=\"match_name\")"
   ]
  },
  {
   "cell_type": "code",
   "execution_count": 29,
   "metadata": {},
   "outputs": [],
   "source": [
    "adp_join.to_csv('adp_full.csv')"
   ]
  }
 ]
}